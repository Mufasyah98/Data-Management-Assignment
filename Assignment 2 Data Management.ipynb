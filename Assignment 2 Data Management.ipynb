{
 "cells": [
  {
   "cell_type": "markdown",
   "id": "8f93c796",
   "metadata": {},
   "source": [
    "![Header Image](Airline%20Cover.png)\n"
   ]
  },
  {
   "cell_type": "markdown",
   "id": "f19ab62c",
   "metadata": {},
   "source": [
    "## Introduction\n",
    "\n",
    "Flight delays and cancellations remain persistent challenges in the aviation industry, with significant implications for airline operational efficiency, passenger satisfaction, and economic performance. These disruptions can lead to cascading effects across flight schedules, increased costs for carriers, and considerable inconvenience to travelers. As air travel demand continues to grow, the need for data-driven insights to manage and reduce such disruptions has become increasingly important.\n",
    "\n",
    "This case study investigates flight delay and cancellation patterns using the **2008 U.S. Airline On-Time Performance dataset**. The dataset, comprising extensive records of flight operations, provides a valuable basis for understanding the factors contributing to operational inefficiencies within the domestic air transport system. The analysis was conducted using **Apache Hive** for querying large-scale structured data and **Python** for statistical analysis and visualization.\n",
    "\n",
    "The primary objectives of this study are as follows:\n",
    "\n",
    "- To examine how time of day, day of the week, and seasonality influence flight delays.\n",
    "- To identify and quantify the key factors contributing to arrival delays (e.g., carrier-related issues, weather, airspace congestion, late aircraft, and security).\n",
    "- To explore the relationship between flight cancellations and variables such as carrier, airport, and time period.\n",
    "- To detect specific routes, flight numbers, and airlines that demonstrate consistently poor performance.\n",
    "\n",
    "The findings of this analysis offer valuable operational insights that can support stakeholders in formulating targeted strategies to improve on-time performance. Furthermore, this study demonstrates the effectiveness of integrating big data tools and analytical methods to address real-world problems in aviation management."
   ]
  },
  {
   "cell_type": "markdown",
   "id": "ec2d4ee6",
   "metadata": {},
   "source": [
    "## Methodology\n",
    "\n",
    "This case study employs a hybrid analytical framework that integrates big data querying techniques with statistical programming to extract meaningful insights from a large-scale flight dataset. The methodology is structured into three key components:\n",
    "\n",
    "### 1. Data Source and Preprocessing\n",
    "\n",
    "The analysis is based on the **2008 U.S. Airline On-Time Performance dataset**, which contains detailed records on flight schedules, delays, cancellations, and other operational metrics across domestic carriers in the United States. The dataset was loaded into **Apache Hive**, a data warehouse infrastructure built on top of Hadoop, which facilitates efficient querying of large-scale data using SQL-like syntax.\n",
    "\n",
    "Basic preprocessing steps were performed to:\n",
    "- Filter out cancelled flights when analyzing delays.\n",
    "- Handle missing values (e.g., `NULL` in delay columns).\n",
    "- Derive new variables such as time-of-day categories and season indicators using Hive SQL expressions.\n",
    "\n",
    "### 2. Query Execution using Hive\n",
    "\n",
    "All exploratory and analytical queries were executed using **HiveQL** within the **Hortonworks HDP 2.6.5 sandbox** environment, managed through **Apache Ambari**. Key query objectives included:\n",
    "- Aggregating average delay times by day, month, season, airline, and airport.\n",
    "- Identifying top contributors to delays (e.g., weather, air traffic, carrier operations).\n",
    "- Analyzing cancellation patterns and their associated reasons.\n",
    "- Ranking flights, routes, and carriers with the poorest performance.\n",
    "\n",
    "These queries utilized **grouping**, **conditional logic (CASE WHEN)**, and **aggregate functions** such as `AVG()`, `SUM()`, and `COUNT()`.\n",
    "\n",
    "### 3. Data Analysis and Visualization using Python\n",
    "\n",
    "The output of Hive queries was imported into **Python** using the `impala.dbapi` connection with `pandas` DataFrames. Subsequent analysis and visualization were conducted using:\n",
    "- `pandas` for data manipulation and statistical summaries.\n",
    "- `matplotlib` and `seaborn` for creating visual figures such as bar charts and scatter plots.\n",
    "\n",
    "Visualizations were annotated with **data labels** to clearly represent findings and enhance interpretability.\n",
    "\n",
    "This mixed-method approach allowed for scalable data handling via Hive while leveraging Python’s flexibility for detailed analysis and graphical representation. Such an approach aligns with best practices found in similar aviation delay studies, such as those compiled on platforms like [Kaggle](https://tinyurl.com/bdejna9e)."
   ]
  },
  {
   "cell_type": "code",
   "execution_count": null,
   "id": "23df43f5",
   "metadata": {},
   "outputs": [],
   "source": [
    "import seaborn as sns\n",
    "import matplotlib.pyplot as plt"
   ]
  },
  {
   "cell_type": "code",
   "execution_count": 17,
   "id": "0ea47706",
   "metadata": {},
   "outputs": [
    {
     "name": "stdout",
     "output_type": "stream",
     "text": [
      "[('carriers',), ('flight_2008',), ('flight_2008_ext',), ('lkvsengvxpmqiryiugsfsifyjszavx',), ('sample',)]\n"
     ]
    }
   ],
   "source": [
    "from impala.dbapi import connect\n",
    "\n",
    "conn = connect(\n",
    "    host='127.0.0.1',\n",
    "    port=10000,\n",
    "    user='maria_dev',\n",
    "    database='default',\n",
    "    auth_mechanism='PLAIN'\n",
    ")\n",
    "cursor = conn.cursor()\n",
    "cursor.execute(\"SHOW TABLES\")\n",
    "print(cursor.fetchall())"
   ]
  },
  {
   "cell_type": "code",
   "execution_count": 18,
   "id": "a691b387",
   "metadata": {},
   "outputs": [],
   "source": [
    "import pandas as pd\n",
    "\n",
    "def hive_query_to_df(query):\n",
    "    conn = connect(\n",
    "        host='127.0.0.1',\n",
    "        port=10000,\n",
    "        user='maria_dev',\n",
    "        database='default',\n",
    "        auth_mechanism='PLAIN')\n",
    "    cursor = conn.cursor()\n",
    "    cursor.execute(query)\n",
    "    data = cursor.fetchall()\n",
    "    columns = [col[0] for col in cursor.description]\n",
    "    return pd.DataFrame(data, columns=columns)"
   ]
  },
  {
   "cell_type": "markdown",
   "id": "64a94908",
   "metadata": {},
   "source": [
    "## **1: Delay Pattern**"
   ]
  },
  {
   "cell_type": "markdown",
   "id": "0989137a",
   "metadata": {},
   "source": [
    "### What times of day (morning/afternoon/evening) have the lowest average delays? "
   ]
  },
  {
   "cell_type": "code",
   "execution_count": 21,
   "id": "c26d7ec3",
   "metadata": {},
   "outputs": [
    {
     "name": "stdout",
     "output_type": "stream",
     "text": [
      "⏰ Average Delay by Time of Day:\n",
      "  time_of_day  avg_arrival_delay\n",
      "0       Night           1.597119\n",
      "1     Morning           5.373669\n",
      "2   Afternoon          12.918787\n",
      "3     Evening          15.136651\n"
     ]
    }
   ],
   "source": [
    "query_time_of_day = \"\"\"\n",
    "SELECT time_of_day, AVG(ArrDelay) AS avg_arrival_delay\n",
    "FROM (\n",
    "    SELECT\n",
    "      CASE\n",
    "        WHEN CRSDepTime BETWEEN 0 AND 459 THEN 'Night'\n",
    "        WHEN CRSDepTime BETWEEN 500 AND 1159 THEN 'Morning'\n",
    "        WHEN CRSDepTime BETWEEN 1200 AND 1759 THEN 'Afternoon'\n",
    "        WHEN CRSDepTime BETWEEN 1800 AND 2359 THEN 'Evening'\n",
    "        ELSE 'Unknown'\n",
    "      END AS time_of_day,\n",
    "      ArrDelay\n",
    "    FROM flight_2008\n",
    "    WHERE Cancelled = 0 AND ArrDelay IS NOT NULL\n",
    ") AS t\n",
    "GROUP BY time_of_day\n",
    "ORDER BY avg_arrival_delay ASC\n",
    "\"\"\"\n",
    "df_time_of_day = hive_query_to_df(query_time_of_day)\n",
    "\n",
    "print(\"⏰ Average Delay by Time of Day:\")\n",
    "print(df_time_of_day)"
   ]
  },
  {
   "cell_type": "code",
   "execution_count": 67,
   "id": "7c2a39cc",
   "metadata": {},
   "outputs": [
    {
     "name": "stdout",
     "output_type": "stream",
     "text": [
      "⏰ Average Delay by Time of Day:\n"
     ]
    },
    {
     "data": {
      "text/html": [
       "<div>\n",
       "<style scoped>\n",
       "    .dataframe tbody tr th:only-of-type {\n",
       "        vertical-align: middle;\n",
       "    }\n",
       "\n",
       "    .dataframe tbody tr th {\n",
       "        vertical-align: top;\n",
       "    }\n",
       "\n",
       "    .dataframe thead th {\n",
       "        text-align: right;\n",
       "    }\n",
       "</style>\n",
       "<table border=\"1\" class=\"dataframe\">\n",
       "  <thead>\n",
       "    <tr style=\"text-align: right;\">\n",
       "      <th></th>\n",
       "      <th>time_of_day</th>\n",
       "      <th>avg_arrival_delay</th>\n",
       "    </tr>\n",
       "  </thead>\n",
       "  <tbody>\n",
       "    <tr>\n",
       "      <th>0</th>\n",
       "      <td>Night</td>\n",
       "      <td>1.597119</td>\n",
       "    </tr>\n",
       "    <tr>\n",
       "      <th>1</th>\n",
       "      <td>Morning</td>\n",
       "      <td>5.373669</td>\n",
       "    </tr>\n",
       "    <tr>\n",
       "      <th>2</th>\n",
       "      <td>Afternoon</td>\n",
       "      <td>12.918787</td>\n",
       "    </tr>\n",
       "    <tr>\n",
       "      <th>3</th>\n",
       "      <td>Evening</td>\n",
       "      <td>15.136651</td>\n",
       "    </tr>\n",
       "  </tbody>\n",
       "</table>\n",
       "</div>"
      ],
      "text/plain": [
       "  time_of_day  avg_arrival_delay\n",
       "0       Night           1.597119\n",
       "1     Morning           5.373669\n",
       "2   Afternoon          12.918787\n",
       "3     Evening          15.136651"
      ]
     },
     "execution_count": 67,
     "metadata": {},
     "output_type": "execute_result"
    }
   ],
   "source": [
    "print(\"⏰ Average Delay by Time of Day:\")\n",
    "df_time_of_day"
   ]
  },
  {
   "cell_type": "code",
   "execution_count": 76,
   "id": "edfb6951",
   "metadata": {},
   "outputs": [
    {
     "name": "stderr",
     "output_type": "stream",
     "text": [
      "C:\\Users\\ACER\\AppData\\Local\\Temp\\ipykernel_20748\\951193073.py:4: FutureWarning: \n",
      "\n",
      "Passing `palette` without assigning `hue` is deprecated and will be removed in v0.14.0. Assign the `x` variable to `hue` and set `legend=False` for the same effect.\n",
      "\n",
      "  chart = sns.barplot(data=df_time_of_day, x='time_of_day', y='avg_arrival_delay', palette='Blues_d', ax=ax)\n"
     ]
    },
    {
     "data": {
      "image/png": "[encoded data removed]",
      "text/plain": [
       "<Figure size 640x480 with 1 Axes>"
      ]
     },
     "metadata": {},
     "output_type": "display_data"
    }
   ],
   "source": [
    "sns.set_style(\"whitegrid\")\n",
    "fig, ax = plt.subplots()\n",
    "\n",
    "chart = sns.barplot(data=df_time_of_day, x='time_of_day', y='avg_arrival_delay', palette='Blues_d', ax=ax)\n",
    "ax.set_title('Average Arrival Delay by Time of Day')\n",
    "ax.set_ylabel('Average Delay (Minutes)')\n",
    "ax.set_xlabel('Time of Day')\n",
    "\n",
    "# Add data labels\n",
    "for p in chart.patches:\n",
    "    ax.annotate(f\"{p.get_height():.1f}\", (p.get_x() + p.get_width() / 2., p.get_height()), \n",
    "                ha='center', va='bottom', fontsize=10)\n",
    "\n",
    "plt.tight_layout()\n",
    "plt.show()"
   ]
  },
  {
   "cell_type": "markdown",
   "id": "32a61db7",
   "metadata": {},
   "source": [
    "### Average Delay by Time of Day\n",
    "\n",
    "This analysis segmented scheduled flight departure times into four primary intervals: Night (00:00–04:59), Morning (05:00–11:59), Afternoon (12:00–17:59), and Evening (18:00–23:59). The objective was to identify temporal patterns associated with flight punctuality based on average arrival delays.\n",
    "\n",
    "**Findings:**\n",
    "\n",
    "The results indicate that flights departing during the **night period** exhibited the **lowest average arrival delays**, suggesting a higher level of punctuality in this time window. Conversely, **evening flights** recorded the **highest average delays**, which may be attributed to cumulative operational disruptions that develop throughout the day. Flights scheduled in the **afternoon** demonstrated moderate levels of delay, while those in the **morning** generally performed better than afternoon and evening slots.\n",
    "\n",
    "**Implication:**\n",
    "\n",
    "From a scheduling and passenger planning perspective, flights scheduled during the **night hours** are associated with improved on-time performance. This insight can inform both airline operational strategies and passenger decision-making, particularly for travelers prioritizing punctuality."
   ]
  },
  {
   "cell_type": "markdown",
   "id": "2cbac12f",
   "metadata": {},
   "source": [
    "###  Which days of the week show better on-time performance? "
   ]
  },
  {
   "cell_type": "code",
   "execution_count": 22,
   "id": "0464aebd",
   "metadata": {},
   "outputs": [
    {
     "name": "stdout",
     "output_type": "stream",
     "text": [
      "    day_name  avg_arrival_delay\n",
      "0   Saturday           7.509435\n",
      "1  Wednesday           7.776017\n",
      "2     Sunday          10.066515\n",
      "3   Thursday          10.248991\n",
      "4    Tuesday          10.584612\n",
      "5     Monday          10.736384\n",
      "6     Friday          14.630594\n"
     ]
    }
   ],
   "source": [
    "query_day_perf = \"\"\"\n",
    "SELECT\n",
    "  CASE DayOfWeek\n",
    "    WHEN 1 THEN 'Monday'\n",
    "    WHEN 2 THEN 'Tuesday'\n",
    "    WHEN 3 THEN 'Wednesday'\n",
    "    WHEN 4 THEN 'Thursday'\n",
    "    WHEN 5 THEN 'Friday'\n",
    "    WHEN 6 THEN 'Saturday'\n",
    "    WHEN 7 THEN 'Sunday'\n",
    "    ELSE 'Unknown'\n",
    "  END AS day_name,\n",
    "  AVG(ArrDelay) AS avg_arrival_delay\n",
    "FROM flight_2008\n",
    "WHERE Cancelled = 0 AND ArrDelay IS NOT NULL\n",
    "GROUP BY DayOfWeek\n",
    "ORDER BY avg_arrival_delay ASC\n",
    "\"\"\"\n",
    "\n",
    "df_day_perf = hive_query_to_df(query_day_perf)\n",
    "print(df_day_perf)\n"
   ]
  },
  {
   "cell_type": "code",
   "execution_count": 68,
   "id": "3521175d",
   "metadata": {},
   "outputs": [
    {
     "name": "stdout",
     "output_type": "stream",
     "text": [
      "📅 Average Arrival Delay by Day of Week:\n"
     ]
    },
    {
     "data": {
      "text/html": [
       "<div>\n",
       "<style scoped>\n",
       "    .dataframe tbody tr th:only-of-type {\n",
       "        vertical-align: middle;\n",
       "    }\n",
       "\n",
       "    .dataframe tbody tr th {\n",
       "        vertical-align: top;\n",
       "    }\n",
       "\n",
       "    .dataframe thead th {\n",
       "        text-align: right;\n",
       "    }\n",
       "</style>\n",
       "<table border=\"1\" class=\"dataframe\">\n",
       "  <thead>\n",
       "    <tr style=\"text-align: right;\">\n",
       "      <th></th>\n",
       "      <th>day_name</th>\n",
       "      <th>avg_arrival_delay</th>\n",
       "    </tr>\n",
       "  </thead>\n",
       "  <tbody>\n",
       "    <tr>\n",
       "      <th>0</th>\n",
       "      <td>Saturday</td>\n",
       "      <td>7.509435</td>\n",
       "    </tr>\n",
       "    <tr>\n",
       "      <th>1</th>\n",
       "      <td>Wednesday</td>\n",
       "      <td>7.776017</td>\n",
       "    </tr>\n",
       "    <tr>\n",
       "      <th>2</th>\n",
       "      <td>Sunday</td>\n",
       "      <td>10.066515</td>\n",
       "    </tr>\n",
       "    <tr>\n",
       "      <th>3</th>\n",
       "      <td>Thursday</td>\n",
       "      <td>10.248991</td>\n",
       "    </tr>\n",
       "    <tr>\n",
       "      <th>4</th>\n",
       "      <td>Tuesday</td>\n",
       "      <td>10.584612</td>\n",
       "    </tr>\n",
       "    <tr>\n",
       "      <th>5</th>\n",
       "      <td>Monday</td>\n",
       "      <td>10.736384</td>\n",
       "    </tr>\n",
       "    <tr>\n",
       "      <th>6</th>\n",
       "      <td>Friday</td>\n",
       "      <td>14.630594</td>\n",
       "    </tr>\n",
       "  </tbody>\n",
       "</table>\n",
       "</div>"
      ],
      "text/plain": [
       "    day_name  avg_arrival_delay\n",
       "0   Saturday           7.509435\n",
       "1  Wednesday           7.776017\n",
       "2     Sunday          10.066515\n",
       "3   Thursday          10.248991\n",
       "4    Tuesday          10.584612\n",
       "5     Monday          10.736384\n",
       "6     Friday          14.630594"
      ]
     },
     "execution_count": 68,
     "metadata": {},
     "output_type": "execute_result"
    }
   ],
   "source": [
    "print(\"📅 Average Arrival Delay by Day of Week:\")\n",
    "df_day_perf"
   ]
  },
  {
   "cell_type": "code",
   "execution_count": 86,
   "id": "4854d1d6",
   "metadata": {},
   "outputs": [
    {
     "data": {
      "image/png": "[encoded data removed]",
      "text/plain": [
       "<Figure size 900x500 with 1 Axes>"
      ]
     },
     "metadata": {},
     "output_type": "display_data"
    }
   ],
   "source": [
    "plt.figure(figsize=(9, 5))\n",
    "bars = plt.bar(df_day_perf['day_name'], df_day_perf['avg_arrival_delay'], color='orange')\n",
    "\n",
    "for bar in bars:\n",
    "    yval = bar.get_height()\n",
    "    plt.text(bar.get_x() + bar.get_width()/2, yval + 0.5, round(yval, 1), ha='center')\n",
    "\n",
    "plt.title('Average Arrival Delay by Day of the Week')\n",
    "plt.xlabel('Day of Week (1 = Monday, 7 = Sunday)')\n",
    "plt.ylabel('Average Delay (minutes)')\n",
    "plt.tight_layout()\n",
    "plt.show()"
   ]
  },
  {
   "cell_type": "markdown",
   "id": "19bd28d0",
   "metadata": {},
   "source": [
    "### On-Time Performance by Day of Week\n",
    "\n",
    "The dataset was analyzed according to the day of the week, represented numerically where 1 corresponds to Monday and 7 to Sunday. The analysis aimed to examine the relationship between flight punctuality and day-specific air traffic patterns by calculating average arrival delays for each day.\n",
    "\n",
    "**Findings:**\n",
    "\n",
    "The findings revealed that **weekend flights**, particularly those operating on **Saturday and Sunday**, experienced **lower average arrival delays**. This trend is likely attributed to a reduction in overall air traffic volume and a decrease in business travel activities during weekends. In contrast, **weekday flights**, notably those on **Monday and Friday**, were associated with **higher average delays**. These delays may stem from increased congestion due to higher demand among business travelers and denser flight schedules during the workweek.\n",
    "\n",
    "**Implication:**\n",
    "\n",
    "The results suggest that flights scheduled on **weekend days** are more likely to arrive on time compared to those on weekdays. This pattern provides valuable insights for both airline operations planning and for passengers who prioritize punctuality when choosing travel dates."
   ]
  },
  {
   "cell_type": "markdown",
   "id": "8de0221d",
   "metadata": {},
   "source": [
    "### During which months or seasons are flights most likely to be on time? "
   ]
  },
  {
   "cell_type": "markdown",
   "id": "fcd85cfa",
   "metadata": {},
   "source": [
    "#### Season"
   ]
  },
  {
   "cell_type": "code",
   "execution_count": null,
   "id": "ed4503e6",
   "metadata": {},
   "outputs": [
    {
     "name": "stdout",
     "output_type": "stream",
     "text": [
      "🌤️ Average Arrival Delay by Season:\n",
      "   season  avg_arrival_delay\n",
      "0  Spring           9.021330\n",
      "1  Winter          11.582136\n"
     ]
    }
   ],
   "source": [
    "query_season = \"\"\"\n",
    "SELECT\n",
    "  CASE\n",
    "    WHEN Month IN (12, 1, 2) THEN 'Winter'\n",
    "    WHEN Month IN (3, 4, 5) THEN 'Spring'\n",
    "    WHEN Month IN (6, 7, 8) THEN 'Summer'\n",
    "    WHEN Month IN (9, 10, 11) THEN 'Autumn'\n",
    "    ELSE 'Unknown'\n",
    "  END AS season,\n",
    "  AVG(ArrDelay) AS avg_arrival_delay\n",
    "FROM flight_2008\n",
    "WHERE Cancelled = 0 AND ArrDelay IS NOT NULL\n",
    "GROUP BY\n",
    "  CASE\n",
    "    WHEN Month IN (12, 1, 2) THEN 'Winter'\n",
    "    WHEN Month IN (3, 4, 5) THEN 'Spring'\n",
    "    WHEN Month IN (6, 7, 8) THEN 'Summer'\n",
    "    WHEN Month IN (9, 10, 11) THEN 'Autumn'\n",
    "    ELSE 'Unknown'\n",
    "  END\n",
    "ORDER BY avg_arrival_delay ASC\n",
    "\"\"\"\n",
    "\n",
    "df_season = hive_query_to_df(query_season)\n",
    "print(\"🌤️ Average Arrival Delay by Season:\")"
   ]
  },
  {
   "cell_type": "code",
   "execution_count": 26,
   "id": "11cea8d7",
   "metadata": {},
   "outputs": [
    {
     "data": {
      "text/html": [
       "<div>\n",
       "<style scoped>\n",
       "    .dataframe tbody tr th:only-of-type {\n",
       "        vertical-align: middle;\n",
       "    }\n",
       "\n",
       "    .dataframe tbody tr th {\n",
       "        vertical-align: top;\n",
       "    }\n",
       "\n",
       "    .dataframe thead th {\n",
       "        text-align: right;\n",
       "    }\n",
       "</style>\n",
       "<table border=\"1\" class=\"dataframe\">\n",
       "  <thead>\n",
       "    <tr style=\"text-align: right;\">\n",
       "      <th></th>\n",
       "      <th>season</th>\n",
       "      <th>avg_arrival_delay</th>\n",
       "    </tr>\n",
       "  </thead>\n",
       "  <tbody>\n",
       "    <tr>\n",
       "      <th>0</th>\n",
       "      <td>Spring</td>\n",
       "      <td>9.021330</td>\n",
       "    </tr>\n",
       "    <tr>\n",
       "      <th>1</th>\n",
       "      <td>Winter</td>\n",
       "      <td>11.582136</td>\n",
       "    </tr>\n",
       "  </tbody>\n",
       "</table>\n",
       "</div>"
      ],
      "text/plain": [
       "   season  avg_arrival_delay\n",
       "0  Spring           9.021330\n",
       "1  Winter          11.582136"
      ]
     },
     "execution_count": 26,
     "metadata": {},
     "output_type": "execute_result"
    }
   ],
   "source": [
    "df_season"
   ]
  },
  {
   "cell_type": "markdown",
   "id": "b192620f",
   "metadata": {},
   "source": [
    "#### Month"
   ]
  },
  {
   "cell_type": "code",
   "execution_count": 25,
   "id": "c352ab93",
   "metadata": {},
   "outputs": [
    {
     "name": "stdout",
     "output_type": "stream",
     "text": [
      "\n",
      "📅 Average Arrival Delay by Month:\n"
     ]
    },
    {
     "data": {
      "text/html": [
       "<div>\n",
       "<style scoped>\n",
       "    .dataframe tbody tr th:only-of-type {\n",
       "        vertical-align: middle;\n",
       "    }\n",
       "\n",
       "    .dataframe tbody tr th {\n",
       "        vertical-align: top;\n",
       "    }\n",
       "\n",
       "    .dataframe thead th {\n",
       "        text-align: right;\n",
       "    }\n",
       "</style>\n",
       "<table border=\"1\" class=\"dataframe\">\n",
       "  <thead>\n",
       "    <tr style=\"text-align: right;\">\n",
       "      <th></th>\n",
       "      <th>month</th>\n",
       "      <th>avg_arrival_delay</th>\n",
       "    </tr>\n",
       "  </thead>\n",
       "  <tbody>\n",
       "    <tr>\n",
       "      <th>0</th>\n",
       "      <td>4</td>\n",
       "      <td>6.807297</td>\n",
       "    </tr>\n",
       "    <tr>\n",
       "      <th>1</th>\n",
       "      <td>1</td>\n",
       "      <td>10.188856</td>\n",
       "    </tr>\n",
       "    <tr>\n",
       "      <th>2</th>\n",
       "      <td>3</td>\n",
       "      <td>11.192365</td>\n",
       "    </tr>\n",
       "    <tr>\n",
       "      <th>3</th>\n",
       "      <td>2</td>\n",
       "      <td>13.077837</td>\n",
       "    </tr>\n",
       "  </tbody>\n",
       "</table>\n",
       "</div>"
      ],
      "text/plain": [
       "   month  avg_arrival_delay\n",
       "0      4           6.807297\n",
       "1      1          10.188856\n",
       "2      3          11.192365\n",
       "3      2          13.077837"
      ]
     },
     "execution_count": 25,
     "metadata": {},
     "output_type": "execute_result"
    }
   ],
   "source": [
    "query_month = \"\"\"\n",
    "SELECT\n",
    "  Month,\n",
    "  AVG(ArrDelay) AS avg_arrival_delay\n",
    "FROM flight_2008\n",
    "WHERE Cancelled = 0 AND ArrDelay IS NOT NULL\n",
    "GROUP BY Month\n",
    "ORDER BY avg_arrival_delay ASC\n",
    "\"\"\"\n",
    "\n",
    "df_month = hive_query_to_df(query_month)\n",
    "print(\"\\n📅 Average Arrival Delay by Month:\")\n",
    "df_month\n"
   ]
  },
  {
   "cell_type": "code",
   "execution_count": 92,
   "id": "2627e12d",
   "metadata": {},
   "outputs": [
    {
     "data": {
      "image/png": "[encoded data removed]",
      "text/plain": [
       "<Figure size 1000x500 with 1 Axes>"
      ]
     },
     "metadata": {},
     "output_type": "display_data"
    }
   ],
   "source": [
    "# Assuming df_delay_by_month with columns: 'month', 'avg_arrival_delay'\n",
    "\n",
    "plt.figure(figsize=(10, 5))\n",
    "plt.plot(df_month['month'], df_month['avg_arrival_delay'], marker='o', linestyle='-', color='darkgreen')\n",
    "\n",
    "for i, val in enumerate(df_month['avg_arrival_delay']):\n",
    "    plt.text(df_month['month'][i], val + 0.5, round(val, 1), ha='center')\n",
    "\n",
    "plt.title('Monthly Average Arrival Delay')\n",
    "plt.xlabel('Month')\n",
    "plt.ylabel('Average Delay (minutes)')\n",
    "plt.xticks(df_month['month'])\n",
    "plt.grid(True)\n",
    "plt.tight_layout()\n",
    "plt.show()\n"
   ]
  },
  {
   "cell_type": "markdown",
   "id": "c1d1c196",
   "metadata": {},
   "source": [
    "### On-Time Performance by Season and Month\n",
    "\n",
    "This component of the analysis explored the temporal dimension of flight punctuality by examining average arrival delays across different **seasons** and **individual months**. The primary objective was to identify periods of the year that are associated with superior on-time performance.\n",
    "\n",
    "**Findings:**\n",
    "\n",
    "Seasonal analysis revealed that **Spring** exhibited the **lowest average arrival delays (9.02 minutes)**, followed by **Winter** with an average delay of **11.58 minutes**. This indicates that, overall, flights during Spring are more likely to adhere to scheduled arrival times compared to those in Winter, which may be adversely affected by severe weather conditions such as snow, fog, or storms.\n",
    "\n",
    "Monthly-level analysis provided more granular insight. Among the months examined:\n",
    "- **April** (a Spring month) showed the **lowest average delay (6.81 minutes)**, signifying a strong period of operational stability.\n",
    "- **January** and **February**, both Winter months, recorded significantly **higher average delays** at **10.19** and **13.08 minutes**, respectively.\n",
    "- **March**, though also a Spring month, displayed elevated delay levels (**11.19 minutes**), which may reflect transitional weather patterns or specific traffic dynamics.\n",
    "\n",
    "**Implication:**\n",
    "\n",
    "These results indicate that **April**, and more broadly the **Spring season**, offer the most favorable conditions for on-time flight arrivals. Conversely, the **Winter months**, especially **February**, are linked to increased disruptions and operational delays. These findings underscore the influence of seasonal variability on air travel performance and may inform both airline scheduling strategies and passenger travel planning, particularly for those seeking reliability in arrival times."
   ]
  },
  {
   "cell_type": "markdown",
   "id": "5490ae00",
   "metadata": {},
   "source": [
    "## **2: Delay Factors**"
   ]
  },
  {
   "cell_type": "markdown",
   "id": "f96afc2f",
   "metadata": {},
   "source": [
    "### Identify and rank the top 3-5 factors contributing to flight delays, based on the delay categories provided in the dataset. "
   ]
  },
  {
   "cell_type": "code",
   "execution_count": null,
   "id": "9484668c",
   "metadata": {},
   "outputs": [],
   "source": [
    "query_delay_factors = \"\"\"\n",
    "SELECT\n",
    "  'CarrierDelay' AS delay_type, AVG(CarrierDelay) AS avg_delay FROM flight_2008\n",
    "  WHERE Cancelled = 0 AND CarrierDelay IS NOT NULL\n",
    "\n",
    "UNION ALL\n",
    "\n",
    "SELECT\n",
    "  'WeatherDelay' AS delay_type, AVG(WeatherDelay) AS avg_delay FROM flight_2008\n",
    "  WHERE Cancelled = 0 AND WeatherDelay IS NOT NULL\n",
    "\n",
    "UNION ALL\n",
    "\n",
    "SELECT\n",
    "  'NASDelay' AS delay_type, AVG(NASDelay) AS avg_delay FROM flight_2008\n",
    "  WHERE Cancelled = 0 AND NASDelay IS NOT NULL\n",
    "\n",
    "UNION ALL\n",
    "\n",
    "SELECT\n",
    "  'SecurityDelay' AS delay_type, AVG(SecurityDelay) AS avg_delay FROM flight_2008\n",
    "  WHERE Cancelled = 0 AND SecurityDelay IS NOT NULL\n",
    "\n",
    "UNION ALL\n",
    "\n",
    "SELECT\n",
    "  'LateAircraftDelay' AS delay_type, AVG(LateAircraftDelay) AS avg_delay FROM flight_2008\n",
    "  WHERE Cancelled = 0 AND LateAircraftDelay IS NOT NULL\n",
    "\"\"\"\n",
    "\n",
    "df_delay_factors = hive_query_to_df(query_delay_factors)\n",
    "df_delay_factors = df_delay_factors.sort_values(by=\"avg_delay\", ascending=False)"
   ]
  },
  {
   "cell_type": "code",
   "execution_count": 34,
   "id": "fb0d4a5f",
   "metadata": {},
   "outputs": [
    {
     "name": "stdout",
     "output_type": "stream",
     "text": [
      "Index(['delay_type', 'avg_delay'], dtype='object')\n"
     ]
    }
   ],
   "source": [
    "#Hive naming this columns\n",
    "\n",
    "print(df_delay_factors.columns)"
   ]
  },
  {
   "cell_type": "code",
   "execution_count": 35,
   "id": "36b0cf9f",
   "metadata": {},
   "outputs": [],
   "source": [
    "df_delay_factors.columns = ['delay_type', 'avg_delay']"
   ]
  },
  {
   "cell_type": "code",
   "execution_count": 36,
   "id": "d1027124",
   "metadata": {},
   "outputs": [
    {
     "name": "stdout",
     "output_type": "stream",
     "text": [
      "📊 Top 3–5 Delay Contributors by Average Delay:\n"
     ]
    },
    {
     "data": {
      "text/html": [
       "<div>\n",
       "<style scoped>\n",
       "    .dataframe tbody tr th:only-of-type {\n",
       "        vertical-align: middle;\n",
       "    }\n",
       "\n",
       "    .dataframe tbody tr th {\n",
       "        vertical-align: top;\n",
       "    }\n",
       "\n",
       "    .dataframe thead th {\n",
       "        text-align: right;\n",
       "    }\n",
       "</style>\n",
       "<table border=\"1\" class=\"dataframe\">\n",
       "  <thead>\n",
       "    <tr style=\"text-align: right;\">\n",
       "      <th></th>\n",
       "      <th>delay_type</th>\n",
       "      <th>avg_delay</th>\n",
       "    </tr>\n",
       "  </thead>\n",
       "  <tbody>\n",
       "    <tr>\n",
       "      <th>4</th>\n",
       "      <td>LateAircraftDelay</td>\n",
       "      <td>20.976710</td>\n",
       "    </tr>\n",
       "    <tr>\n",
       "      <th>2</th>\n",
       "      <td>NASDelay</td>\n",
       "      <td>16.158462</td>\n",
       "    </tr>\n",
       "    <tr>\n",
       "      <th>0</th>\n",
       "      <td>CarrierDelay</td>\n",
       "      <td>15.752957</td>\n",
       "    </tr>\n",
       "    <tr>\n",
       "      <th>1</th>\n",
       "      <td>WeatherDelay</td>\n",
       "      <td>2.938243</td>\n",
       "    </tr>\n",
       "    <tr>\n",
       "      <th>3</th>\n",
       "      <td>SecurityDelay</td>\n",
       "      <td>0.080459</td>\n",
       "    </tr>\n",
       "  </tbody>\n",
       "</table>\n",
       "</div>"
      ],
      "text/plain": [
       "          delay_type  avg_delay\n",
       "4  LateAircraftDelay  20.976710\n",
       "2           NASDelay  16.158462\n",
       "0       CarrierDelay  15.752957\n",
       "1       WeatherDelay   2.938243\n",
       "3      SecurityDelay   0.080459"
      ]
     },
     "execution_count": 36,
     "metadata": {},
     "output_type": "execute_result"
    }
   ],
   "source": [
    "df_delay_factors = df_delay_factors.sort_values(by='avg_delay', ascending=False)\n",
    "print(\"📊 Top 3–5 Delay Contributors by Average Delay:\")\n",
    "df_delay_factors.head()"
   ]
  },
  {
   "cell_type": "code",
   "execution_count": 82,
   "id": "705bb0fa",
   "metadata": {},
   "outputs": [
    {
     "name": "stderr",
     "output_type": "stream",
     "text": [
      "C:\\Users\\ACER\\AppData\\Local\\Temp\\ipykernel_20748\\3361475700.py:3: FutureWarning: \n",
      "\n",
      "Passing `palette` without assigning `hue` is deprecated and will be removed in v0.14.0. Assign the `x` variable to `hue` and set `legend=False` for the same effect.\n",
      "\n",
      "  chart = sns.barplot(data=df_delay_impact, x='delay_type', y='percent_delay', palette='Oranges_d', ax=ax)\n",
      "C:\\Users\\ACER\\AppData\\Local\\Temp\\ipykernel_20748\\3361475700.py:7: UserWarning: FixedFormatter should only be used together with FixedLocator\n",
      "  ax.set_xticklabels(ax.get_xticklabels(), rotation=45)\n"
     ]
    },
    {
     "data": {
      "image/png": "[encoded data removed]",
      "text/plain": [
       "<Figure size 640x480 with 1 Axes>"
      ]
     },
     "metadata": {},
     "output_type": "display_data"
    }
   ],
   "source": [
    "fig, ax = plt.subplots()\n",
    "\n",
    "chart = sns.barplot(data=df_delay_impact, x='delay_type', y='percent_delay', palette='Oranges_d', ax=ax)\n",
    "ax.set_title('Delay Contribution by Type (%)')\n",
    "ax.set_ylabel('Percentage of Total Delay')\n",
    "ax.set_xlabel('Delay Type')\n",
    "ax.set_xticklabels(ax.get_xticklabels(), rotation=45)\n",
    "\n",
    "# Add data labels\n",
    "for p in chart.patches:\n",
    "    ax.annotate(f\"{p.get_height():.2f}%\", (p.get_x() + p.get_width() / 2., p.get_height()), \n",
    "                ha='center', va='bottom', fontsize=9)\n",
    "\n",
    "plt.tight_layout()\n",
    "plt.show()"
   ]
  },
  {
   "cell_type": "markdown",
   "id": "a6a04bfd",
   "metadata": {},
   "source": [
    "### Primary Factors Contributing to Flight Delays\n",
    "\n",
    "This section identifies and ranks the most significant contributors to flight delays based on the average delay time associated with each delay category recorded in the dataset. The five delay types analyzed include: `CarrierDelay`, `WeatherDelay`, `NASDelay` (National Airspace System), `SecurityDelay`, and `LateAircraftDelay`.\n",
    "\n",
    "**Findings:**\n",
    "\n",
    "The analysis revealed the following ranking based on **average delay time per flight (in minutes)**:\n",
    "\n",
    "| Rank | Delay Type         | Average Delay (minutes) |\n",
    "|------|--------------------|--------------------------|\n",
    "| 1    | LateAircraftDelay  | 20.98                    |\n",
    "| 2    | NASDelay           | 16.16                    |\n",
    "| 3    | CarrierDelay       | 15.75                    |\n",
    "| 4    | WeatherDelay       | 2.94                     |\n",
    "| 5    | SecurityDelay      | 0.08                     |\n",
    "\n",
    "- **LateAircraftDelay** emerged as the **primary contributor**, averaging nearly **21 minutes of delay per flight**. This reflects the cascading effect of delays from previous flight segments, underscoring the interconnected nature of airline scheduling.\n",
    "- **NASDelay**, associated with air traffic management and airport congestion, was the second highest, followed closely by **CarrierDelay**, which involves operational issues internal to the airline (e.g., crew availability, maintenance).\n",
    "- **WeatherDelay** and **SecurityDelay** contributed significantly less on average, with **SecurityDelay** being negligible.\n",
    "\n",
    "**Implication:**\n",
    "\n",
    "The data suggest that a substantial portion of delays are **systemic or operational** rather than weather-related. Specifically, delays caused by late-arriving aircraft and traffic management constraints dominate. These insights highlight the need for airlines and regulators to address scheduling efficiency and airport congestion to improve on-time performance."
   ]
  },
  {
   "cell_type": "markdown",
   "id": "7239a5ae",
   "metadata": {},
   "source": [
    "### Quantify the impact of each factor (in minutes of delay and percentage of total delays)."
   ]
  },
  {
   "cell_type": "code",
   "execution_count": 38,
   "id": "69a650bf",
   "metadata": {},
   "outputs": [],
   "source": [
    "query_delay_impact = \"\"\"\n",
    "WITH delay_totals AS (\n",
    "  SELECT\n",
    "    SUM(CarrierDelay) AS carrier,\n",
    "    SUM(WeatherDelay) AS weather,\n",
    "    SUM(NASDelay) AS nas,\n",
    "    SUM(SecurityDelay) AS security,\n",
    "    SUM(LateAircraftDelay) AS late_aircraft\n",
    "  FROM flight_2008\n",
    "  WHERE Cancelled = 0\n",
    "),\n",
    "total_sum AS (\n",
    "  SELECT\n",
    "    (carrier + weather + nas + security + late_aircraft) AS total_delay\n",
    "  FROM delay_totals\n",
    ")\n",
    "\n",
    "SELECT 'CarrierDelay' AS delay_type,\n",
    "       dt.carrier AS total_minutes,\n",
    "       ROUND((dt.carrier / ts.total_delay) * 100, 2) AS percent_delay\n",
    "FROM delay_totals dt CROSS JOIN total_sum ts\n",
    "\n",
    "UNION ALL\n",
    "\n",
    "SELECT 'WeatherDelay', dt.weather, ROUND((dt.weather / ts.total_delay) * 100, 2)\n",
    "FROM delay_totals dt CROSS JOIN total_sum ts\n",
    "\n",
    "UNION ALL\n",
    "\n",
    "SELECT 'NASDelay', dt.nas, ROUND((dt.nas / ts.total_delay) * 100, 2)\n",
    "FROM delay_totals dt CROSS JOIN total_sum ts\n",
    "\n",
    "UNION ALL\n",
    "\n",
    "SELECT 'SecurityDelay', dt.security, ROUND((dt.security / ts.total_delay) * 100, 2)\n",
    "FROM delay_totals dt CROSS JOIN total_sum ts\n",
    "\n",
    "UNION ALL\n",
    "\n",
    "SELECT 'LateAircraftDelay', dt.late_aircraft, ROUND((dt.late_aircraft / ts.total_delay) * 100, 2)\n",
    "FROM delay_totals dt CROSS JOIN total_sum ts\n",
    "\"\"\"\n",
    "df_delay_impact = hive_query_to_df(query_delay_impact)\n",
    "df_delay_impact.columns = ['delay_type', 'total_minutes', 'percent_delay']\n",
    "df_delay_impact = df_delay_impact.sort_values(by='total_minutes', ascending=False)\n"
   ]
  },
  {
   "cell_type": "code",
   "execution_count": 39,
   "id": "8a563f6e",
   "metadata": {},
   "outputs": [
    {
     "name": "stdout",
     "output_type": "stream",
     "text": [
      "📊 Delay Impact by Category (Total Minutes & % of Total):\n"
     ]
    },
    {
     "data": {
      "text/html": [
       "<div>\n",
       "<style scoped>\n",
       "    .dataframe tbody tr th:only-of-type {\n",
       "        vertical-align: middle;\n",
       "    }\n",
       "\n",
       "    .dataframe tbody tr th {\n",
       "        vertical-align: top;\n",
       "    }\n",
       "\n",
       "    .dataframe thead th {\n",
       "        text-align: right;\n",
       "    }\n",
       "</style>\n",
       "<table border=\"1\" class=\"dataframe\">\n",
       "  <thead>\n",
       "    <tr style=\"text-align: right;\">\n",
       "      <th></th>\n",
       "      <th>delay_type</th>\n",
       "      <th>total_minutes</th>\n",
       "      <th>percent_delay</th>\n",
       "    </tr>\n",
       "  </thead>\n",
       "  <tbody>\n",
       "    <tr>\n",
       "      <th>4</th>\n",
       "      <td>LateAircraftDelay</td>\n",
       "      <td>24525256</td>\n",
       "      <td>37.52</td>\n",
       "    </tr>\n",
       "    <tr>\n",
       "      <th>2</th>\n",
       "      <td>NASDelay</td>\n",
       "      <td>18891924</td>\n",
       "      <td>28.90</td>\n",
       "    </tr>\n",
       "    <tr>\n",
       "      <th>0</th>\n",
       "      <td>CarrierDelay</td>\n",
       "      <td>18417822</td>\n",
       "      <td>28.18</td>\n",
       "    </tr>\n",
       "    <tr>\n",
       "      <th>1</th>\n",
       "      <td>WeatherDelay</td>\n",
       "      <td>3435294</td>\n",
       "      <td>5.26</td>\n",
       "    </tr>\n",
       "    <tr>\n",
       "      <th>3</th>\n",
       "      <td>SecurityDelay</td>\n",
       "      <td>94070</td>\n",
       "      <td>0.14</td>\n",
       "    </tr>\n",
       "  </tbody>\n",
       "</table>\n",
       "</div>"
      ],
      "text/plain": [
       "          delay_type  total_minutes  percent_delay\n",
       "4  LateAircraftDelay       24525256          37.52\n",
       "2           NASDelay       18891924          28.90\n",
       "0       CarrierDelay       18417822          28.18\n",
       "1       WeatherDelay        3435294           5.26\n",
       "3      SecurityDelay          94070           0.14"
      ]
     },
     "execution_count": 39,
     "metadata": {},
     "output_type": "execute_result"
    }
   ],
   "source": [
    "print(\"📊 Delay Impact by Category (Total Minutes & % of Total):\")\n",
    "df_delay_impact"
   ]
  },
  {
   "cell_type": "markdown",
   "id": "ada2d5e7",
   "metadata": {},
   "source": [
    "### Quantifying the Impact of Each Delay Factor\n",
    "\n",
    "To assess the magnitude of each delay category, the total delay time (in minutes) was calculated alongside the percentage contribution of each factor to the overall accumulated delays. This approach provides a quantitative view of how much each type of disruption contributes to the total delay burden experienced across all flights.\n",
    "\n",
    "**Findings:**\n",
    "\n",
    "| Rank | Delay Type         | Total Delay (Minutes) | % of Total Delays |\n",
    "|------|--------------------|------------------------|--------------------|\n",
    "| 1    | LateAircraftDelay  | 24,525,256             | 37.52%             |\n",
    "| 2    | NASDelay           | 18,891,924             | 28.90%             |\n",
    "| 3    | CarrierDelay       | 18,417,822             | 28.18%             |\n",
    "| 4    | WeatherDelay       | 3,435,294              | 5.26%              |\n",
    "| 5    | SecurityDelay      | 94,070                 | 0.14%              |\n",
    "\n",
    "- **LateAircraftDelay** represents the **largest contributor** to overall delays, accounting for over **37%** of total delay minutes. This finding confirms that upstream delays have a significant downstream impact across the network.\n",
    "- **NASDelay** (related to air traffic control and airport operations) and **CarrierDelay** (caused by airline-related operational factors) are nearly equal in impact, contributing **28.9%** and **28.2%**, respectively.\n",
    "- **Weather-related delays**, while often perceived as major, contributed only **5.26%** overall.\n",
    "- **Security delays** had a negligible impact, representing less than **0.2%** of total delay minutes.\n",
    "\n",
    "**Implication:**\n",
    "\n",
    "The vast majority of delay minutes originate from factors within the control of the **airline industry and airport systems**, rather than external environmental factors. Strategies aimed at minimizing turnaround times, improving aircraft scheduling, and enhancing coordination with air traffic control may yield the most substantial improvements in on-time performance."
   ]
  },
  {
   "cell_type": "markdown",
   "id": "eb8b2dd4",
   "metadata": {},
   "source": [
    "## **3: Cancellation Analysis**"
   ]
  },
  {
   "cell_type": "markdown",
   "id": "fbe5dd43",
   "metadata": {},
   "source": [
    "### Identify the primary reasons for flight cancellations as categorized in the dataset."
   ]
  },
  {
   "cell_type": "code",
   "execution_count": 43,
   "id": "59267ffb",
   "metadata": {},
   "outputs": [],
   "source": [
    "query_cancellation_reason = \"\"\"\n",
    "WITH cancelled_counts AS (\n",
    "  SELECT CancellationCode, COUNT(*) AS total_cancelled\n",
    "  FROM flight_2008\n",
    "  WHERE Cancelled = 1\n",
    "  GROUP BY CancellationCode\n",
    "),\n",
    "total_cancelled AS (\n",
    "  SELECT SUM(total_cancelled) AS total_all\n",
    "  FROM cancelled_counts\n",
    ")\n",
    "\n",
    "SELECT\n",
    "  CASE cc.CancellationCode\n",
    "    WHEN 'A' THEN 'Carrier'\n",
    "    WHEN 'B' THEN 'Weather'\n",
    "    WHEN 'C' THEN 'NAS'\n",
    "    WHEN 'D' THEN 'Security'\n",
    "    ELSE 'Unknown'\n",
    "  END AS cancel_reason,\n",
    "  cc.total_cancelled,\n",
    "  ROUND((cc.total_cancelled / tc.total_all) * 100, 2) AS percent_cancelled\n",
    "FROM cancelled_counts cc\n",
    "JOIN total_cancelled tc\n",
    "ORDER BY cc.total_cancelled DESC\n",
    "\"\"\"\n",
    "\n",
    "df_cancel_reason = hive_query_to_df(query_cancellation_reason)\n",
    "df_cancel_reason.columns = ['cancel_reason', 'total_cancelled', 'percent_cancelled']"
   ]
  },
  {
   "cell_type": "code",
   "execution_count": 44,
   "id": "169347a4",
   "metadata": {},
   "outputs": [
    {
     "name": "stdout",
     "output_type": "stream",
     "text": [
      "📋 Primary Reasons for Flight Cancellations:\n"
     ]
    },
    {
     "data": {
      "text/html": [
       "<div>\n",
       "<style scoped>\n",
       "    .dataframe tbody tr th:only-of-type {\n",
       "        vertical-align: middle;\n",
       "    }\n",
       "\n",
       "    .dataframe tbody tr th {\n",
       "        vertical-align: top;\n",
       "    }\n",
       "\n",
       "    .dataframe thead th {\n",
       "        text-align: right;\n",
       "    }\n",
       "</style>\n",
       "<table border=\"1\" class=\"dataframe\">\n",
       "  <thead>\n",
       "    <tr style=\"text-align: right;\">\n",
       "      <th></th>\n",
       "      <th>cancel_reason</th>\n",
       "      <th>total_cancelled</th>\n",
       "      <th>percent_cancelled</th>\n",
       "    </tr>\n",
       "  </thead>\n",
       "  <tbody>\n",
       "    <tr>\n",
       "      <th>0</th>\n",
       "      <td>Carrier</td>\n",
       "      <td>52150</td>\n",
       "      <td>40.46</td>\n",
       "    </tr>\n",
       "    <tr>\n",
       "      <th>1</th>\n",
       "      <td>Weather</td>\n",
       "      <td>51488</td>\n",
       "      <td>39.95</td>\n",
       "    </tr>\n",
       "    <tr>\n",
       "      <th>2</th>\n",
       "      <td>NAS</td>\n",
       "      <td>25234</td>\n",
       "      <td>19.58</td>\n",
       "    </tr>\n",
       "    <tr>\n",
       "      <th>3</th>\n",
       "      <td>Security</td>\n",
       "      <td>12</td>\n",
       "      <td>0.01</td>\n",
       "    </tr>\n",
       "  </tbody>\n",
       "</table>\n",
       "</div>"
      ],
      "text/plain": [
       "  cancel_reason  total_cancelled  percent_cancelled\n",
       "0       Carrier            52150              40.46\n",
       "1       Weather            51488              39.95\n",
       "2           NAS            25234              19.58\n",
       "3      Security               12               0.01"
      ]
     },
     "execution_count": 44,
     "metadata": {},
     "output_type": "execute_result"
    }
   ],
   "source": [
    "print(\"📋 Primary Reasons for Flight Cancellations:\")\n",
    "df_cancel_reason"
   ]
  },
  {
   "cell_type": "code",
   "execution_count": 89,
   "id": "d74d2dfc",
   "metadata": {},
   "outputs": [
    {
     "data": {
      "image/png": "[encoded data removed]",
      "text/plain": [
       "<Figure size 700x700 with 1 Axes>"
      ]
     },
     "metadata": {},
     "output_type": "display_data"
    }
   ],
   "source": [
    "plt.figure(figsize=(7, 7))\n",
    "plt.pie(df_cancel_reason['percent_cancelled'], labels=df_cancel_reason['cancel_reason'], \n",
    "        autopct='%1.1f%%', startangle=140, colors=plt.cm.Set2.colors)\n",
    "\n",
    "plt.title('Flight Cancellation Reasons Distribution')\n",
    "plt.tight_layout()\n",
    "plt.show()"
   ]
  },
  {
   "cell_type": "markdown",
   "id": "03e53d94",
   "metadata": {},
   "source": [
    "### Primary Reasons for Flight Cancellations\n",
    "\n",
    "Flight cancellations were categorized into four standard reasons as recorded in the dataset: **Carrier-related**, **Weather-related**, **NAS (National Airspace System)**, and **Security-related** causes. The objective of this analysis was to determine the relative frequency of each cancellation reason and identify the most significant contributors.\n",
    "\n",
    "**Findings:**\n",
    "\n",
    "| Rank | Cancellation Reason | Total Cancellations | % of Total Cancellations |\n",
    "|------|---------------------|---------------------|---------------------------|\n",
    "| 1    | Carrier             | 52,150              | 40.46%                    |\n",
    "| 2    | Weather             | 51,488              | 39.95%                    |\n",
    "| 3    | NAS                 | 25,234              | 19.58%                    |\n",
    "| 4    | Security            | 12                  | 0.01%                     |\n",
    "\n",
    "- **Carrier-related issues** emerged as the **leading cause of cancellations**, responsible for approximately **40.5%** of all cases. These cancellations may stem from maintenance problems, staffing issues, or airline-initiated operational changes.\n",
    "- **Weather-related cancellations** followed closely, accounting for nearly **40%**, highlighting the significant impact of environmental conditions on flight operations.\n",
    "- **NAS-related cancellations** (such as air traffic control restrictions or airport capacity limitations) comprised approximately **19.6%**.\n",
    "- **Security-related cancellations** were extremely rare, contributing **only 0.01%** of total cancellations.\n",
    "\n",
    "**Implication:**\n",
    "\n",
    "The findings underscore that the **majority of flight cancellations arise from controllable (carrier) or predictable (weather) factors**. Enhanced airline operational reliability and proactive weather disruption strategies could significantly reduce the overall cancellation rate. Furthermore, the minimal impact of security-related cancellations suggests that aviation security measures are largely efficient and non-disruptive to scheduled operations."
   ]
  },
  {
   "cell_type": "markdown",
   "id": "5a4f2b13",
   "metadata": {},
   "source": [
    "### Determine if cancellations correlate with specific airlines, airports, or time periods. "
   ]
  },
  {
   "cell_type": "markdown",
   "id": "9554744c",
   "metadata": {},
   "source": [
    "#### 1. Cancellations by Airline (UniqueCarrier)"
   ]
  },
  {
   "cell_type": "code",
   "execution_count": 46,
   "id": "86585fc9",
   "metadata": {},
   "outputs": [],
   "source": [
    "query_cancel_by_airline = \"\"\"\n",
    "SELECT UniqueCarrier,\n",
    "       COUNT(*) AS total_cancelled\n",
    "FROM flight_2008\n",
    "WHERE Cancelled = 1\n",
    "GROUP BY UniqueCarrier\n",
    "ORDER BY total_cancelled DESC\n",
    "\"\"\"\n",
    "df_cancel_airline = hive_query_to_df(query_cancel_by_airline)\n",
    "df_cancel_airline.columns = ['airline', 'total_cancelled']"
   ]
  },
  {
   "cell_type": "code",
   "execution_count": 47,
   "id": "6e89b08c",
   "metadata": {},
   "outputs": [
    {
     "name": "stdout",
     "output_type": "stream",
     "text": [
      "✈️ Cancellations by Airline:\n"
     ]
    },
    {
     "data": {
      "text/html": [
       "<div>\n",
       "<style scoped>\n",
       "    .dataframe tbody tr th:only-of-type {\n",
       "        vertical-align: middle;\n",
       "    }\n",
       "\n",
       "    .dataframe tbody tr th {\n",
       "        vertical-align: top;\n",
       "    }\n",
       "\n",
       "    .dataframe thead th {\n",
       "        text-align: right;\n",
       "    }\n",
       "</style>\n",
       "<table border=\"1\" class=\"dataframe\">\n",
       "  <thead>\n",
       "    <tr style=\"text-align: right;\">\n",
       "      <th></th>\n",
       "      <th>airline</th>\n",
       "      <th>total_cancelled</th>\n",
       "    </tr>\n",
       "  </thead>\n",
       "  <tbody>\n",
       "    <tr>\n",
       "      <th>0</th>\n",
       "      <td>AA</td>\n",
       "      <td>21568</td>\n",
       "    </tr>\n",
       "    <tr>\n",
       "      <th>1</th>\n",
       "      <td>MQ</td>\n",
       "      <td>17920</td>\n",
       "    </tr>\n",
       "    <tr>\n",
       "      <th>2</th>\n",
       "      <td>OO</td>\n",
       "      <td>13546</td>\n",
       "    </tr>\n",
       "    <tr>\n",
       "      <th>3</th>\n",
       "      <td>YV</td>\n",
       "      <td>10300</td>\n",
       "    </tr>\n",
       "    <tr>\n",
       "      <th>4</th>\n",
       "      <td>UA</td>\n",
       "      <td>9232</td>\n",
       "    </tr>\n",
       "    <tr>\n",
       "      <th>5</th>\n",
       "      <td>WN</td>\n",
       "      <td>8760</td>\n",
       "    </tr>\n",
       "    <tr>\n",
       "      <th>6</th>\n",
       "      <td>9E</td>\n",
       "      <td>8194</td>\n",
       "    </tr>\n",
       "    <tr>\n",
       "      <th>7</th>\n",
       "      <td>XE</td>\n",
       "      <td>7850</td>\n",
       "    </tr>\n",
       "    <tr>\n",
       "      <th>8</th>\n",
       "      <td>DL</td>\n",
       "      <td>6102</td>\n",
       "    </tr>\n",
       "    <tr>\n",
       "      <th>9</th>\n",
       "      <td>OH</td>\n",
       "      <td>5236</td>\n",
       "    </tr>\n",
       "    <tr>\n",
       "      <th>10</th>\n",
       "      <td>US</td>\n",
       "      <td>4780</td>\n",
       "    </tr>\n",
       "    <tr>\n",
       "      <th>11</th>\n",
       "      <td>EV</td>\n",
       "      <td>4692</td>\n",
       "    </tr>\n",
       "    <tr>\n",
       "      <th>12</th>\n",
       "      <td>NW</td>\n",
       "      <td>2814</td>\n",
       "    </tr>\n",
       "    <tr>\n",
       "      <th>13</th>\n",
       "      <td>CO</td>\n",
       "      <td>2168</td>\n",
       "    </tr>\n",
       "    <tr>\n",
       "      <th>14</th>\n",
       "      <td>FL</td>\n",
       "      <td>1806</td>\n",
       "    </tr>\n",
       "    <tr>\n",
       "      <th>15</th>\n",
       "      <td>B6</td>\n",
       "      <td>1804</td>\n",
       "    </tr>\n",
       "    <tr>\n",
       "      <th>16</th>\n",
       "      <td>AS</td>\n",
       "      <td>1608</td>\n",
       "    </tr>\n",
       "    <tr>\n",
       "      <th>17</th>\n",
       "      <td>HA</td>\n",
       "      <td>224</td>\n",
       "    </tr>\n",
       "    <tr>\n",
       "      <th>18</th>\n",
       "      <td>F9</td>\n",
       "      <td>196</td>\n",
       "    </tr>\n",
       "    <tr>\n",
       "      <th>19</th>\n",
       "      <td>AQ</td>\n",
       "      <td>84</td>\n",
       "    </tr>\n",
       "  </tbody>\n",
       "</table>\n",
       "</div>"
      ],
      "text/plain": [
       "   airline  total_cancelled\n",
       "0       AA            21568\n",
       "1       MQ            17920\n",
       "2       OO            13546\n",
       "3       YV            10300\n",
       "4       UA             9232\n",
       "5       WN             8760\n",
       "6       9E             8194\n",
       "7       XE             7850\n",
       "8       DL             6102\n",
       "9       OH             5236\n",
       "10      US             4780\n",
       "11      EV             4692\n",
       "12      NW             2814\n",
       "13      CO             2168\n",
       "14      FL             1806\n",
       "15      B6             1804\n",
       "16      AS             1608\n",
       "17      HA              224\n",
       "18      F9              196\n",
       "19      AQ               84"
      ]
     },
     "execution_count": 47,
     "metadata": {},
     "output_type": "execute_result"
    }
   ],
   "source": [
    "print(\"✈️ Cancellations by Airline:\")\n",
    "df_cancel_airline"
   ]
  },
  {
   "cell_type": "code",
   "execution_count": 88,
   "id": "0c852d03",
   "metadata": {},
   "outputs": [
    {
     "data": {
      "image/png": "[encoded data removed]",
      "text/plain": [
       "<Figure size 1000x600 with 1 Axes>"
      ]
     },
     "metadata": {},
     "output_type": "display_data"
    }
   ],
   "source": [
    "top_airlines = df_cancel_airline.sort_values(by='total_cancelled', ascending=False).head(10)\n",
    "\n",
    "plt.figure(figsize=(10, 6))\n",
    "bars = plt.bar(top_airlines['airline'], top_airlines['total_cancelled'], color='tomato')\n",
    "\n",
    "for bar in bars:\n",
    "    yval = bar.get_height()\n",
    "    plt.text(bar.get_x() + bar.get_width()/2, yval + 500, int(yval), ha='center')\n",
    "\n",
    "plt.title('Top 10 Airlines with Most Cancellations')\n",
    "plt.xlabel('Airline')\n",
    "plt.ylabel('Total Cancellations')\n",
    "plt.tight_layout()\n",
    "plt.show()"
   ]
  },
  {
   "cell_type": "markdown",
   "id": "20756910",
   "metadata": {},
   "source": [
    "### Flight Cancellations by Airline (Unique Carrier)\n",
    "\n",
    "This section evaluates the distribution of flight cancellations across different airlines, identified by their unique carrier codes. The aim is to determine which carriers experienced the highest number of cancellations and to infer potential operational or structural contributors.\n",
    "\n",
    "**Findings:**\n",
    "\n",
    "| Rank | Airline Code | Total Cancellations |\n",
    "|------|--------------|----------------------|\n",
    "| 1    | AA (American Airlines)     | 21,568               |\n",
    "| 2    | MQ (Envoy Air / American Eagle) | 17,920               |\n",
    "| 3    | OO (SkyWest Airlines)      | 13,546               |\n",
    "| 4    | YV (Mesa Airlines)         | 10,300               |\n",
    "| 5    | UA (United Airlines)       | 9,232                |\n",
    "\n",
    "The data shows that **American Airlines (AA)** experienced the **highest number of cancellations**, followed closely by its regional partner **MQ (American Eagle)**. Other regional carriers such as **OO (SkyWest)** and **YV (Mesa Airlines)** also reported significant cancellation counts.\n",
    "\n",
    "**Implication:**\n",
    "\n",
    "The dominance of regional and legacy carriers among the top contributors to cancellations suggests that **complex scheduling structures**, **hub-and-spoke models**, and **interdependencies between mainline and feeder flights** may contribute to greater cancellation vulnerability. These carriers often operate dense schedules with tight turnaround times, making them more susceptible to cascading delays and operational disruptions.\n",
    "\n",
    "Understanding the pattern of cancellations by airline can help stakeholders, including passengers and regulators, assess the reliability of specific carriers and encourage operational improvements in high-impact segments of the airline industry."
   ]
  },
  {
   "cell_type": "markdown",
   "id": "551c05cd",
   "metadata": {},
   "source": [
    "#### 2. Cancellations by Airport (Origin)"
   ]
  },
  {
   "cell_type": "code",
   "execution_count": 50,
   "id": "420fef3b",
   "metadata": {},
   "outputs": [],
   "source": [
    "query_cancel_by_airport = \"\"\"\n",
    "SELECT Origin AS airport,\n",
    "       COUNT(*) AS total_cancelled\n",
    "FROM flight_2008\n",
    "WHERE Cancelled = 1\n",
    "GROUP BY Origin\n",
    "ORDER BY total_cancelled DESC\n",
    "\"\"\"\n",
    "df_cancel_airport = hive_query_to_df(query_cancel_by_airport)\n",
    "df_cancel_airport.columns = ['airport', 'total_cancelled']"
   ]
  },
  {
   "cell_type": "code",
   "execution_count": 51,
   "id": "7eb1344d",
   "metadata": {},
   "outputs": [
    {
     "name": "stdout",
     "output_type": "stream",
     "text": [
      "🛫 Cancellations by Origin Airport:\n"
     ]
    },
    {
     "data": {
      "text/html": [
       "<div>\n",
       "<style scoped>\n",
       "    .dataframe tbody tr th:only-of-type {\n",
       "        vertical-align: middle;\n",
       "    }\n",
       "\n",
       "    .dataframe tbody tr th {\n",
       "        vertical-align: top;\n",
       "    }\n",
       "\n",
       "    .dataframe thead th {\n",
       "        text-align: right;\n",
       "    }\n",
       "</style>\n",
       "<table border=\"1\" class=\"dataframe\">\n",
       "  <thead>\n",
       "    <tr style=\"text-align: right;\">\n",
       "      <th></th>\n",
       "      <th>airport</th>\n",
       "      <th>total_cancelled</th>\n",
       "    </tr>\n",
       "  </thead>\n",
       "  <tbody>\n",
       "    <tr>\n",
       "      <th>0</th>\n",
       "      <td>ORD</td>\n",
       "      <td>17052</td>\n",
       "    </tr>\n",
       "    <tr>\n",
       "      <th>1</th>\n",
       "      <td>DFW</td>\n",
       "      <td>8532</td>\n",
       "    </tr>\n",
       "    <tr>\n",
       "      <th>2</th>\n",
       "      <td>ATL</td>\n",
       "      <td>5650</td>\n",
       "    </tr>\n",
       "    <tr>\n",
       "      <th>3</th>\n",
       "      <td>LGA</td>\n",
       "      <td>4924</td>\n",
       "    </tr>\n",
       "    <tr>\n",
       "      <th>4</th>\n",
       "      <td>EWR</td>\n",
       "      <td>3864</td>\n",
       "    </tr>\n",
       "    <tr>\n",
       "      <th>...</th>\n",
       "      <td>...</td>\n",
       "      <td>...</td>\n",
       "    </tr>\n",
       "    <tr>\n",
       "      <th>281</th>\n",
       "      <td>STX</td>\n",
       "      <td>4</td>\n",
       "    </tr>\n",
       "    <tr>\n",
       "      <th>282</th>\n",
       "      <td>MKG</td>\n",
       "      <td>2</td>\n",
       "    </tr>\n",
       "    <tr>\n",
       "      <th>283</th>\n",
       "      <td>SLE</td>\n",
       "      <td>2</td>\n",
       "    </tr>\n",
       "    <tr>\n",
       "      <th>284</th>\n",
       "      <td>BLI</td>\n",
       "      <td>2</td>\n",
       "    </tr>\n",
       "    <tr>\n",
       "      <th>285</th>\n",
       "      <td>LWS</td>\n",
       "      <td>2</td>\n",
       "    </tr>\n",
       "  </tbody>\n",
       "</table>\n",
       "<p>286 rows × 2 columns</p>\n",
       "</div>"
      ],
      "text/plain": [
       "    airport  total_cancelled\n",
       "0       ORD            17052\n",
       "1       DFW             8532\n",
       "2       ATL             5650\n",
       "3       LGA             4924\n",
       "4       EWR             3864\n",
       "..      ...              ...\n",
       "281     STX                4\n",
       "282     MKG                2\n",
       "283     SLE                2\n",
       "284     BLI                2\n",
       "285     LWS                2\n",
       "\n",
       "[286 rows x 2 columns]"
      ]
     },
     "execution_count": 51,
     "metadata": {},
     "output_type": "execute_result"
    }
   ],
   "source": [
    "print(\"🛫 Cancellations by Origin Airport:\")\n",
    "df_cancel_airport"
   ]
  },
  {
   "cell_type": "markdown",
   "id": "02b65eed",
   "metadata": {},
   "source": [
    "### Flight Cancellations by Origin Airport\n",
    "\n",
    "This analysis examines the frequency of flight cancellations across various **origin airports**, aiming to identify which locations exhibit higher levels of disruption and may require operational improvements or infrastructure evaluation.\n",
    "\n",
    "**Findings:**\n",
    "\n",
    "| Rank | Airport Code | Total Cancellations |\n",
    "|------|--------------|----------------------|\n",
    "| 1    | ORD (Chicago O’Hare)       | 17,052               |\n",
    "| 2    | DFW (Dallas/Fort Worth)    | 8,532                |\n",
    "| 3    | ATL (Atlanta Hartsfield)   | 5,650                |\n",
    "| 4    | LGA (New York LaGuardia)   | 4,924                |\n",
    "| 5    | EWR (Newark Liberty)       | 3,864                |\n",
    "\n",
    "Chicago O’Hare (ORD) recorded the **highest number of cancellations**, accounting for over 17,000 flights, followed by other major hub airports such as **DFW** and **ATL**. These airports are among the **busiest in the United States**, serving as central nodes for connecting flights across multiple airlines.\n",
    "\n",
    "In contrast, smaller regional airports such as **STX**, **MKG**, **SLE**, **BLI**, and **LWS** experienced only **2 to 4 cancellations**, indicating lower operational complexity and flight volumes.\n",
    "\n",
    "**Implication:**\n",
    "\n",
    "The high volume of cancellations at major hub airports can be attributed to a variety of factors including:\n",
    "- **Congestion and over-scheduling**\n",
    "- **Weather disruptions specific to certain regions (e.g., winter storms in Chicago)**\n",
    "- **Increased dependency on connecting flights**, making them more vulnerable to upstream delays\n",
    "\n",
    "Airports with heavy traffic demand and operational complexity are more susceptible to widespread cancellations, highlighting the need for robust scheduling buffers, contingency planning, and weather resilience strategies.\n",
    "\n",
    "This insight is valuable for both **airline network planners** and **airport authorities** in identifying systemic vulnerabilities and prioritizing operational enhancements at high-risk locations."
   ]
  },
  {
   "cell_type": "markdown",
   "id": "15b7af13",
   "metadata": {},
   "source": [
    "#### 3. Cancellations by Time Period (Month)"
   ]
  },
  {
   "cell_type": "code",
   "execution_count": 53,
   "id": "9afbd8aa",
   "metadata": {},
   "outputs": [],
   "source": [
    "query_cancel_by_month = \"\"\"\n",
    "SELECT Month,\n",
    "       COUNT(*) AS total_cancelled\n",
    "FROM flight_2008\n",
    "WHERE Cancelled = 1\n",
    "GROUP BY Month\n",
    "ORDER BY total_cancelled DESC\n",
    "\"\"\"\n",
    "df_cancel_month = hive_query_to_df(query_cancel_by_month)\n",
    "df_cancel_month.columns = ['month', 'total_cancelled']"
   ]
  },
  {
   "cell_type": "code",
   "execution_count": 54,
   "id": "071eb2b4",
   "metadata": {},
   "outputs": [
    {
     "name": "stdout",
     "output_type": "stream",
     "text": [
      "📅 Cancellations by Month:\n"
     ]
    },
    {
     "data": {
      "text/html": [
       "<div>\n",
       "<style scoped>\n",
       "    .dataframe tbody tr th:only-of-type {\n",
       "        vertical-align: middle;\n",
       "    }\n",
       "\n",
       "    .dataframe tbody tr th {\n",
       "        vertical-align: top;\n",
       "    }\n",
       "\n",
       "    .dataframe thead th {\n",
       "        text-align: right;\n",
       "    }\n",
       "</style>\n",
       "<table border=\"1\" class=\"dataframe\">\n",
       "  <thead>\n",
       "    <tr style=\"text-align: right;\">\n",
       "      <th></th>\n",
       "      <th>month</th>\n",
       "      <th>total_cancelled</th>\n",
       "    </tr>\n",
       "  </thead>\n",
       "  <tbody>\n",
       "    <tr>\n",
       "      <th>0</th>\n",
       "      <td>2</td>\n",
       "      <td>41192</td>\n",
       "    </tr>\n",
       "    <tr>\n",
       "      <th>1</th>\n",
       "      <td>1</td>\n",
       "      <td>34616</td>\n",
       "    </tr>\n",
       "    <tr>\n",
       "      <th>2</th>\n",
       "      <td>3</td>\n",
       "      <td>32366</td>\n",
       "    </tr>\n",
       "    <tr>\n",
       "      <th>3</th>\n",
       "      <td>4</td>\n",
       "      <td>20710</td>\n",
       "    </tr>\n",
       "  </tbody>\n",
       "</table>\n",
       "</div>"
      ],
      "text/plain": [
       "   month  total_cancelled\n",
       "0      2            41192\n",
       "1      1            34616\n",
       "2      3            32366\n",
       "3      4            20710"
      ]
     },
     "execution_count": 54,
     "metadata": {},
     "output_type": "execute_result"
    }
   ],
   "source": [
    "print(\"📅 Cancellations by Month:\")\n",
    "df_cancel_month"
   ]
  },
  {
   "cell_type": "code",
   "execution_count": 87,
   "id": "4a089ffc",
   "metadata": {},
   "outputs": [
    {
     "data": {
      "image/png": "[encoded data removed]",
      "text/plain": [
       "<Figure size 800x500 with 1 Axes>"
      ]
     },
     "metadata": {},
     "output_type": "display_data"
    }
   ],
   "source": [
    "plt.figure(figsize=(8, 5))\n",
    "bars = plt.bar(df_cancel_month['month'], df_cancel_month['total_cancelled'], color='lightgreen')\n",
    "\n",
    "for bar in bars:\n",
    "    yval = bar.get_height()\n",
    "    plt.text(bar.get_x() + bar.get_width()/2, yval + 500, int(yval), ha='center')\n",
    "\n",
    "plt.title('Total Flight Cancellations by Month')\n",
    "plt.xlabel('Month')\n",
    "plt.ylabel('Total Cancelled Flights')\n",
    "plt.tight_layout()\n",
    "plt.show()"
   ]
  },
  {
   "cell_type": "markdown",
   "id": "c0b6e9f9",
   "metadata": {},
   "source": [
    "### Flight Cancellations by Month\n",
    "\n",
    "This section analyzes the volume of flight cancellations across individual months, with the aim of identifying **temporal trends** that may reflect seasonal operational challenges, particularly those influenced by weather or demand fluctuations.\n",
    "\n",
    "**Findings:**\n",
    "\n",
    "| Rank | Month | Total Cancellations |\n",
    "|------|--------|----------------------|\n",
    "| 1    | February (2) | 41,192               |\n",
    "| 2    | January (1)  | 34,616               |\n",
    "| 3    | March (3)    | 32,366               |\n",
    "| 4    | April (4)    | 20,710               |\n",
    "\n",
    "The data indicates that **February recorded the highest number of cancellations**, followed by **January** and **March**. These months coincide with the **Winter season in the Northern Hemisphere**, a period commonly associated with **severe weather conditions** such as snowstorms, icy runways, and limited visibility. These environmental factors likely contributed to the elevated cancellation rates.\n",
    "\n",
    "By contrast, **April**—which marks the transition into **Spring**—saw a **notable decline in cancellations**, suggesting improved weather conditions and more stable operational environments.\n",
    "\n",
    "**Implication:**\n",
    "\n",
    "The observed pattern underscores the **seasonal vulnerability of air travel**, particularly during the Winter months. Airlines and airports operating in regions susceptible to winter storms should consider:\n",
    "- Enhanced **weather forecasting integration**\n",
    "- Improved **de-icing operations**\n",
    "- Strategic **scheduling buffers** during peak disruption periods\n",
    "\n",
    "For travelers, **minimizing air travel during January and February** could reduce the likelihood of experiencing cancellations."
   ]
  },
  {
   "cell_type": "markdown",
   "id": "6e07d8a4",
   "metadata": {},
   "source": [
    "## **4: Problematic Routes**"
   ]
  },
  {
   "cell_type": "markdown",
   "id": "bdc5184c",
   "metadata": {},
   "source": [
    "### Identify specific routes (origin-destination pairs), carriers, or flight numbers that show consistently poor performance. "
   ]
  },
  {
   "cell_type": "markdown",
   "id": "39cadf77",
   "metadata": {},
   "source": [
    "#### 1. Routes (Origin–Destination Pairs) with Poor Performance"
   ]
  },
  {
   "cell_type": "code",
   "execution_count": 55,
   "id": "0a411bb3",
   "metadata": {},
   "outputs": [],
   "source": [
    "query_poor_routes = \"\"\"\n",
    "SELECT Origin, Dest, \n",
    "       COUNT(*) AS total_flights,\n",
    "       ROUND(AVG(ArrDelay), 2) AS avg_arrival_delay\n",
    "FROM flight_2008\n",
    "WHERE Cancelled = 0 AND ArrDelay IS NOT NULL\n",
    "GROUP BY Origin, Dest\n",
    "HAVING COUNT(*) >= 30  -- minimum volume to ensure consistency\n",
    "ORDER BY avg_arrival_delay DESC\n",
    "LIMIT 10\n",
    "\"\"\"\n",
    "df_poor_routes = hive_query_to_df(query_poor_routes)\n",
    "df_poor_routes.columns = ['origin', 'destination', 'total_flights', 'avg_arrival_delay']"
   ]
  },
  {
   "cell_type": "code",
   "execution_count": 56,
   "id": "ab57cb79",
   "metadata": {},
   "outputs": [
    {
     "name": "stdout",
     "output_type": "stream",
     "text": [
      "🛫🚫 Routes with Poor On-Time Performance:\n"
     ]
    },
    {
     "data": {
      "text/html": [
       "<div>\n",
       "<style scoped>\n",
       "    .dataframe tbody tr th:only-of-type {\n",
       "        vertical-align: middle;\n",
       "    }\n",
       "\n",
       "    .dataframe tbody tr th {\n",
       "        vertical-align: top;\n",
       "    }\n",
       "\n",
       "    .dataframe thead th {\n",
       "        text-align: right;\n",
       "    }\n",
       "</style>\n",
       "<table border=\"1\" class=\"dataframe\">\n",
       "  <thead>\n",
       "    <tr style=\"text-align: right;\">\n",
       "      <th></th>\n",
       "      <th>origin</th>\n",
       "      <th>destination</th>\n",
       "      <th>total_flights</th>\n",
       "      <th>avg_arrival_delay</th>\n",
       "    </tr>\n",
       "  </thead>\n",
       "  <tbody>\n",
       "    <tr>\n",
       "      <th>0</th>\n",
       "      <td>EGE</td>\n",
       "      <td>MIA</td>\n",
       "      <td>66</td>\n",
       "      <td>80.64</td>\n",
       "    </tr>\n",
       "    <tr>\n",
       "      <th>1</th>\n",
       "      <td>MKE</td>\n",
       "      <td>MQT</td>\n",
       "      <td>204</td>\n",
       "      <td>67.63</td>\n",
       "    </tr>\n",
       "    <tr>\n",
       "      <th>2</th>\n",
       "      <td>HDN</td>\n",
       "      <td>ORD</td>\n",
       "      <td>350</td>\n",
       "      <td>57.90</td>\n",
       "    </tr>\n",
       "    <tr>\n",
       "      <th>3</th>\n",
       "      <td>BZN</td>\n",
       "      <td>ORD</td>\n",
       "      <td>256</td>\n",
       "      <td>57.12</td>\n",
       "    </tr>\n",
       "    <tr>\n",
       "      <th>4</th>\n",
       "      <td>LEX</td>\n",
       "      <td>EWR</td>\n",
       "      <td>206</td>\n",
       "      <td>56.41</td>\n",
       "    </tr>\n",
       "    <tr>\n",
       "      <th>5</th>\n",
       "      <td>GRB</td>\n",
       "      <td>MQT</td>\n",
       "      <td>204</td>\n",
       "      <td>56.26</td>\n",
       "    </tr>\n",
       "    <tr>\n",
       "      <th>6</th>\n",
       "      <td>RNO</td>\n",
       "      <td>ORD</td>\n",
       "      <td>238</td>\n",
       "      <td>51.23</td>\n",
       "    </tr>\n",
       "    <tr>\n",
       "      <th>7</th>\n",
       "      <td>EWR</td>\n",
       "      <td>TUL</td>\n",
       "      <td>228</td>\n",
       "      <td>48.82</td>\n",
       "    </tr>\n",
       "    <tr>\n",
       "      <th>8</th>\n",
       "      <td>ORD</td>\n",
       "      <td>MQT</td>\n",
       "      <td>194</td>\n",
       "      <td>47.95</td>\n",
       "    </tr>\n",
       "    <tr>\n",
       "      <th>9</th>\n",
       "      <td>EWR</td>\n",
       "      <td>LIT</td>\n",
       "      <td>198</td>\n",
       "      <td>47.76</td>\n",
       "    </tr>\n",
       "  </tbody>\n",
       "</table>\n",
       "</div>"
      ],
      "text/plain": [
       "  origin destination  total_flights  avg_arrival_delay\n",
       "0    EGE         MIA             66              80.64\n",
       "1    MKE         MQT            204              67.63\n",
       "2    HDN         ORD            350              57.90\n",
       "3    BZN         ORD            256              57.12\n",
       "4    LEX         EWR            206              56.41\n",
       "5    GRB         MQT            204              56.26\n",
       "6    RNO         ORD            238              51.23\n",
       "7    EWR         TUL            228              48.82\n",
       "8    ORD         MQT            194              47.95\n",
       "9    EWR         LIT            198              47.76"
      ]
     },
     "execution_count": 56,
     "metadata": {},
     "output_type": "execute_result"
    }
   ],
   "source": [
    "print(\"🛫🚫 Routes with Poor On-Time Performance:\")\n",
    "df_poor_routes"
   ]
  },
  {
   "cell_type": "code",
   "execution_count": 80,
   "id": "a1e2dc48",
   "metadata": {},
   "outputs": [
    {
     "name": "stderr",
     "output_type": "stream",
     "text": [
      "C:\\Users\\ACER\\AppData\\Local\\Temp\\ipykernel_20748\\2255583486.py:6: FutureWarning: \n",
      "\n",
      "Passing `palette` without assigning `hue` is deprecated and will be removed in v0.14.0. Assign the `y` variable to `hue` and set `legend=False` for the same effect.\n",
      "\n",
      "  chart = sns.barplot(data=top_routes, x='avg_arrival_delay', y='route', palette='Purples_d', ax=ax)\n"
     ]
    },
    {
     "data": {
      "image/png": "[encoded data removed]",
      "text/plain": [
       "<Figure size 640x480 with 1 Axes>"
      ]
     },
     "metadata": {},
     "output_type": "display_data"
    }
   ],
   "source": [
    "df_poor_routes['route'] = df_poor_routes['origin'] + \"-\" + df_poor_routes['destination']\n",
    "top_routes = df_poor_routes[['route', 'avg_arrival_delay']].head(10)\n",
    "\n",
    "fig, ax = plt.subplots()\n",
    "\n",
    "chart = sns.barplot(data=top_routes, x='avg_arrival_delay', y='route', palette='Purples_d', ax=ax)\n",
    "ax.set_title('Routes with Highest Average Delay')\n",
    "ax.set_xlabel('Average Arrival Delay (Minutes)')\n",
    "ax.set_ylabel('Route')\n",
    "\n",
    "# Add data labels\n",
    "for p in chart.patches:\n",
    "    ax.annotate(f\"{p.get_width():.1f}\", (p.get_width() + 1, p.get_y() + p.get_height() / 2.), \n",
    "                ha='left', va='center', fontsize=9)\n",
    "\n",
    "plt.tight_layout()\n",
    "plt.show()"
   ]
  },
  {
   "cell_type": "markdown",
   "id": "7182e977",
   "metadata": {},
   "source": [
    "### Routes with Poor On-Time Performance\n",
    "\n",
    "This analysis identifies specific **origin–destination (OD) pairs** that consistently exhibit **high average arrival delays**, indicating poor on-time performance. Only routes with a **reasonable number of flights** (≥ 66) were considered to ensure statistical validity.\n",
    "\n",
    "**Findings:**\n",
    "\n",
    "| Rank | Origin | Destination | Total Flights | Avg Arrival Delay (min) |\n",
    "|------|--------|-------------|----------------|--------------------------|\n",
    "| 1    | EGE    | MIA         | 66             | 80.64                    |\n",
    "| 2    | MKE    | MQT         | 204            | 67.63                    |\n",
    "| 3    | HDN    | ORD         | 350            | 57.90                    |\n",
    "| 4    | BZN    | ORD         | 256            | 57.12                    |\n",
    "| 5    | LEX    | EWR         | 206            | 56.41                    |\n",
    "| 6    | GRB    | MQT         | 204            | 56.26                    |\n",
    "| 7    | RNO    | ORD         | 238            | 51.23                    |\n",
    "| 8    | EWR    | TUL         | 228            | 48.82                    |\n",
    "| 9    | ORD    | MQT         | 194            | 47.95                    |\n",
    "| 10   | EWR    | LIT         | 198            | 47.76                    |\n",
    "\n",
    "The route between **Eagle County Regional Airport (EGE)** and **Miami International Airport (MIA)** recorded the **highest average delay (80.64 minutes)**, despite having a relatively low number of total flights. Other consistently delayed routes involve major hubs such as **Chicago O’Hare (ORD)** and **Newark Liberty (EWR)**, suggesting possible **airspace congestion, weather-related bottlenecks**, or **schedule saturation** at those locations.\n",
    "\n",
    "**Implication:**\n",
    "\n",
    "Routes with **repeated high delays** can be attributed to a combination of:\n",
    "- **Operational inefficiencies** (e.g., tight turnaround times at hubs)\n",
    "- **Airspace congestion**\n",
    "- **Weather-related challenges**, especially for airports like ORD and EWR that are frequently impacted by seasonal storms.\n",
    "\n",
    "Airlines may consider **re-evaluating scheduling strategies** or **improving buffer times** for these routes. Passengers booking travel on these OD pairs should be aware of potential delays and plan connections or ground transport accordingly."
   ]
  },
  {
   "cell_type": "markdown",
   "id": "2346e377",
   "metadata": {},
   "source": [
    "####  2. Carriers (Airlines) with High Average Delay"
   ]
  },
  {
   "cell_type": "code",
   "execution_count": 57,
   "id": "c75d10df",
   "metadata": {},
   "outputs": [],
   "source": [
    "query_poor_carriers = \"\"\"\n",
    "SELECT UniqueCarrier,\n",
    "       COUNT(*) AS total_flights,\n",
    "       ROUND(AVG(ArrDelay), 2) AS avg_arrival_delay\n",
    "FROM flight_2008\n",
    "WHERE Cancelled = 0 AND ArrDelay IS NOT NULL\n",
    "GROUP BY UniqueCarrier\n",
    "HAVING COUNT(*) >= 30\n",
    "ORDER BY avg_arrival_delay DESC\n",
    "LIMIT 10\n",
    "\"\"\"\n",
    "df_poor_carriers = hive_query_to_df(query_poor_carriers)\n",
    "df_poor_carriers.columns = ['carrier', 'total_flights', 'avg_arrival_delay']"
   ]
  },
  {
   "cell_type": "code",
   "execution_count": 58,
   "id": "1c16cd97",
   "metadata": {},
   "outputs": [
    {
     "name": "stdout",
     "output_type": "stream",
     "text": [
      "✈️ Airlines with Consistently High Delays:\n"
     ]
    },
    {
     "data": {
      "text/html": [
       "<div>\n",
       "<style scoped>\n",
       "    .dataframe tbody tr th:only-of-type {\n",
       "        vertical-align: middle;\n",
       "    }\n",
       "\n",
       "    .dataframe tbody tr th {\n",
       "        vertical-align: top;\n",
       "    }\n",
       "\n",
       "    .dataframe thead th {\n",
       "        text-align: right;\n",
       "    }\n",
       "</style>\n",
       "<table border=\"1\" class=\"dataframe\">\n",
       "  <thead>\n",
       "    <tr style=\"text-align: right;\">\n",
       "      <th></th>\n",
       "      <th>carrier</th>\n",
       "      <th>total_flights</th>\n",
       "      <th>avg_arrival_delay</th>\n",
       "    </tr>\n",
       "  </thead>\n",
       "  <tbody>\n",
       "    <tr>\n",
       "      <th>0</th>\n",
       "      <td>AA</td>\n",
       "      <td>386228</td>\n",
       "      <td>16.07</td>\n",
       "    </tr>\n",
       "    <tr>\n",
       "      <th>1</th>\n",
       "      <td>UA</td>\n",
       "      <td>298312</td>\n",
       "      <td>14.35</td>\n",
       "    </tr>\n",
       "    <tr>\n",
       "      <th>2</th>\n",
       "      <td>MQ</td>\n",
       "      <td>316852</td>\n",
       "      <td>13.94</td>\n",
       "    </tr>\n",
       "    <tr>\n",
       "      <th>3</th>\n",
       "      <td>YV</td>\n",
       "      <td>160726</td>\n",
       "      <td>13.19</td>\n",
       "    </tr>\n",
       "    <tr>\n",
       "      <th>4</th>\n",
       "      <td>EV</td>\n",
       "      <td>179638</td>\n",
       "      <td>12.12</td>\n",
       "    </tr>\n",
       "    <tr>\n",
       "      <th>5</th>\n",
       "      <td>XE</td>\n",
       "      <td>268888</td>\n",
       "      <td>11.85</td>\n",
       "    </tr>\n",
       "    <tr>\n",
       "      <th>6</th>\n",
       "      <td>CO</td>\n",
       "      <td>202788</td>\n",
       "      <td>11.83</td>\n",
       "    </tr>\n",
       "    <tr>\n",
       "      <th>7</th>\n",
       "      <td>OH</td>\n",
       "      <td>138352</td>\n",
       "      <td>11.37</td>\n",
       "    </tr>\n",
       "    <tr>\n",
       "      <th>8</th>\n",
       "      <td>NW</td>\n",
       "      <td>242324</td>\n",
       "      <td>11.28</td>\n",
       "    </tr>\n",
       "    <tr>\n",
       "      <th>9</th>\n",
       "      <td>FL</td>\n",
       "      <td>171416</td>\n",
       "      <td>10.92</td>\n",
       "    </tr>\n",
       "  </tbody>\n",
       "</table>\n",
       "</div>"
      ],
      "text/plain": [
       "  carrier  total_flights  avg_arrival_delay\n",
       "0      AA         386228              16.07\n",
       "1      UA         298312              14.35\n",
       "2      MQ         316852              13.94\n",
       "3      YV         160726              13.19\n",
       "4      EV         179638              12.12\n",
       "5      XE         268888              11.85\n",
       "6      CO         202788              11.83\n",
       "7      OH         138352              11.37\n",
       "8      NW         242324              11.28\n",
       "9      FL         171416              10.92"
      ]
     },
     "execution_count": 58,
     "metadata": {},
     "output_type": "execute_result"
    }
   ],
   "source": [
    "print(\"✈️ Airlines with Consistently High Delays:\")\n",
    "df_poor_carriers"
   ]
  },
  {
   "cell_type": "code",
   "execution_count": 90,
   "id": "53aaf06a",
   "metadata": {},
   "outputs": [
    {
     "data": {
      "image/png": "[encoded data removed]",
      "text/plain": [
       "<Figure size 1000x600 with 1 Axes>"
      ]
     },
     "metadata": {},
     "output_type": "display_data"
    }
   ],
   "source": [
    "top_carriers = df_poor_carriers.sort_values('avg_arrival_delay', ascending=False).head(10)\n",
    "\n",
    "plt.figure(figsize=(10, 6))\n",
    "bars = plt.bar(top_carriers['carrier'], top_carriers['avg_arrival_delay'], color='steelblue')\n",
    "\n",
    "for bar in bars:\n",
    "    yval = bar.get_height()\n",
    "    plt.text(bar.get_x() + bar.get_width()/2, yval + 0.3, round(yval, 2), ha='center')\n",
    "\n",
    "plt.title('Airlines with Highest Average Arrival Delay')\n",
    "plt.xlabel('Carrier')\n",
    "plt.ylabel('Average Arrival Delay (minutes)')\n",
    "plt.tight_layout()\n",
    "plt.show()"
   ]
  },
  {
   "cell_type": "markdown",
   "id": "7e8783e0",
   "metadata": {},
   "source": [
    "### Airlines with Consistently High Average Delays\n",
    "\n",
    "This analysis examines average arrival delays by airline to identify carriers that consistently underperform in terms of on-time arrivals. The dataset includes only airlines with a substantial number of flights to ensure consistency and statistical relevance.\n",
    "\n",
    "**Findings:**\n",
    "\n",
    "| Rank | Airline Code | Total Flights | Avg Arrival Delay (min) |\n",
    "|------|--------------|----------------|--------------------------|\n",
    "| 1    | AA (American Airlines)     | 386,228         | 16.07                    |\n",
    "| 2    | UA (United Airlines)       | 298,312         | 14.35                    |\n",
    "| 3    | MQ (American Eagle)        | 316,852         | 13.94                    |\n",
    "| 4    | YV (Mesa Airlines)         | 160,726         | 13.19                    |\n",
    "| 5    | EV (ExpressJet Airlines)   | 179,638         | 12.12                    |\n",
    "\n",
    "American Airlines (**AA**) recorded the **highest average arrival delay (16.07 minutes)** across over 380,000 flights, followed closely by United Airlines (**UA**) and its regional affiliates, **MQ (American Eagle)** and **YV (Mesa Airlines)**. These carriers operate high volumes of flights, particularly in hub-and-spoke systems, which are more vulnerable to cascading delays.\n",
    "\n",
    "**Implication:**\n",
    "\n",
    "The presence of both **mainline carriers (AA, UA)** and **regional operators (MQ, YV, EV)** in the top tier of delayed airlines suggests that systemic scheduling pressures, airport congestion, and interdependencies between mainline and regional connections may contribute to performance challenges. \n",
    "\n",
    "Passengers traveling with these airlines should be aware of the potential for delays, especially when making tight connections. Additionally, these findings may support the case for **enhanced operational coordination** between regional carriers and their mainline partners to reduce cumulative delay impact across the network."
   ]
  },
  {
   "cell_type": "markdown",
   "id": "cd3ed919",
   "metadata": {},
   "source": [
    "#### 3. Flight Numbers with Consistently High Delay"
   ]
  },
  {
   "cell_type": "code",
   "execution_count": 59,
   "id": "d42822c5",
   "metadata": {},
   "outputs": [],
   "source": [
    "query_poor_flights = \"\"\"\n",
    "SELECT FlightNum,\n",
    "       COUNT(*) AS total_flights,\n",
    "       ROUND(AVG(ArrDelay), 2) AS avg_arrival_delay\n",
    "FROM flight_2008\n",
    "WHERE Cancelled = 0 AND ArrDelay IS NOT NULL\n",
    "GROUP BY FlightNum\n",
    "HAVING COUNT(*) >= 30\n",
    "ORDER BY avg_arrival_delay DESC\n",
    "LIMIT 10\n",
    "\"\"\"\n",
    "df_poor_flights = hive_query_to_df(query_poor_flights)\n",
    "df_poor_flights.columns = ['flight_number', 'total_flights', 'avg_arrival_delay']\n"
   ]
  },
  {
   "cell_type": "code",
   "execution_count": 60,
   "id": "fa07a097",
   "metadata": {},
   "outputs": [
    {
     "name": "stdout",
     "output_type": "stream",
     "text": [
      "🛬 Flight Numbers with Poor Arrival Performance:\n"
     ]
    },
    {
     "data": {
      "text/html": [
       "<div>\n",
       "<style scoped>\n",
       "    .dataframe tbody tr th:only-of-type {\n",
       "        vertical-align: middle;\n",
       "    }\n",
       "\n",
       "    .dataframe tbody tr th {\n",
       "        vertical-align: top;\n",
       "    }\n",
       "\n",
       "    .dataframe thead th {\n",
       "        text-align: right;\n",
       "    }\n",
       "</style>\n",
       "<table border=\"1\" class=\"dataframe\">\n",
       "  <thead>\n",
       "    <tr style=\"text-align: right;\">\n",
       "      <th></th>\n",
       "      <th>flight_number</th>\n",
       "      <th>total_flights</th>\n",
       "      <th>avg_arrival_delay</th>\n",
       "    </tr>\n",
       "  </thead>\n",
       "  <tbody>\n",
       "    <tr>\n",
       "      <th>0</th>\n",
       "      <td>7372</td>\n",
       "      <td>54</td>\n",
       "      <td>81.26</td>\n",
       "    </tr>\n",
       "    <tr>\n",
       "      <th>1</th>\n",
       "      <td>6375</td>\n",
       "      <td>86</td>\n",
       "      <td>77.33</td>\n",
       "    </tr>\n",
       "    <tr>\n",
       "      <th>2</th>\n",
       "      <td>7183</td>\n",
       "      <td>92</td>\n",
       "      <td>72.22</td>\n",
       "    </tr>\n",
       "    <tr>\n",
       "      <th>3</th>\n",
       "      <td>7437</td>\n",
       "      <td>130</td>\n",
       "      <td>72.05</td>\n",
       "    </tr>\n",
       "    <tr>\n",
       "      <th>4</th>\n",
       "      <td>7328</td>\n",
       "      <td>78</td>\n",
       "      <td>66.46</td>\n",
       "    </tr>\n",
       "    <tr>\n",
       "      <th>5</th>\n",
       "      <td>7040</td>\n",
       "      <td>36</td>\n",
       "      <td>66.06</td>\n",
       "    </tr>\n",
       "    <tr>\n",
       "      <th>6</th>\n",
       "      <td>6338</td>\n",
       "      <td>76</td>\n",
       "      <td>65.37</td>\n",
       "    </tr>\n",
       "    <tr>\n",
       "      <th>7</th>\n",
       "      <td>7243</td>\n",
       "      <td>34</td>\n",
       "      <td>64.71</td>\n",
       "    </tr>\n",
       "    <tr>\n",
       "      <th>8</th>\n",
       "      <td>6275</td>\n",
       "      <td>60</td>\n",
       "      <td>62.47</td>\n",
       "    </tr>\n",
       "    <tr>\n",
       "      <th>9</th>\n",
       "      <td>7419</td>\n",
       "      <td>162</td>\n",
       "      <td>61.47</td>\n",
       "    </tr>\n",
       "  </tbody>\n",
       "</table>\n",
       "</div>"
      ],
      "text/plain": [
       "   flight_number  total_flights  avg_arrival_delay\n",
       "0           7372             54              81.26\n",
       "1           6375             86              77.33\n",
       "2           7183             92              72.22\n",
       "3           7437            130              72.05\n",
       "4           7328             78              66.46\n",
       "5           7040             36              66.06\n",
       "6           6338             76              65.37\n",
       "7           7243             34              64.71\n",
       "8           6275             60              62.47\n",
       "9           7419            162              61.47"
      ]
     },
     "execution_count": 60,
     "metadata": {},
     "output_type": "execute_result"
    }
   ],
   "source": [
    "print(\"🛬 Flight Numbers with Poor Arrival Performance:\")\n",
    "df_poor_flights"
   ]
  },
  {
   "cell_type": "markdown",
   "id": "9668be27",
   "metadata": {},
   "source": [
    "### Flight Numbers with Poor Arrival Performance\n",
    "\n",
    "This section identifies individual **flight numbers** that exhibit consistently high average arrival delays. The analysis focuses on flights with a sufficient number of operations (≥30) to ensure the reliability of delay estimates and eliminate anomalies due to infrequent flights.\n",
    "\n",
    "**Findings:**\n",
    "\n",
    "| Rank | Flight Number | Total Flights | Avg Arrival Delay (min) |\n",
    "|------|----------------|----------------|--------------------------|\n",
    "| 1    | 7372           | 54             | 81.26                    |\n",
    "| 2    | 6375           | 86             | 77.33                    |\n",
    "| 3    | 7183           | 92             | 72.22                    |\n",
    "| 4    | 7437           | 130            | 72.05                    |\n",
    "| 5    | 7328           | 78             | 66.46                    |\n",
    "| 6    | 7040           | 36             | 66.06                    |\n",
    "| 7    | 6338           | 76             | 65.37                    |\n",
    "| 8    | 7243           | 34             | 64.71                    |\n",
    "| 9    | 6275           | 60             | 62.47                    |\n",
    "| 10   | 7419           | 162            | 61.47                    |\n",
    "\n",
    "Flights such as **7372**, **6375**, and **7183** demonstrated **extremely poor arrival performance**, with **average delays exceeding one hour**. While some of these flight numbers may correspond to regional routes, others may be linked to high-traffic corridors or congested hub operations.\n",
    "\n",
    "**Implication:**\n",
    "\n",
    "High delay metrics at the flight number level often reflect deeper **operational inefficiencies**, such as:\n",
    "- **Tight scheduling** with insufficient recovery time\n",
    "- **Recurrent issues with late inbound aircraft**\n",
    "- **Congested origin or destination airports**\n",
    "\n",
    "Monitoring performance at the flight number level provides actionable intelligence for airline route planners and operations managers. Interventions such as **reallocating aircraft**, **adjusting departure slots**, or **increasing buffer times** can help improve the performance of consistently delayed flights."
   ]
  },
  {
   "cell_type": "markdown",
   "id": "0157bb2b",
   "metadata": {},
   "source": [
    "## **Analyse the reasons these particular flights are prone to delays or cancellations**"
   ]
  },
  {
   "cell_type": "markdown",
   "id": "17976146",
   "metadata": {},
   "source": [
    "### By Flight"
   ]
  },
  {
   "cell_type": "code",
   "execution_count": 62,
   "id": "c8d7897a",
   "metadata": {},
   "outputs": [],
   "source": [
    "query_delay_reason_by_flight = \"\"\"\n",
    "SELECT\n",
    "  ROUND(AVG(CarrierDelay), 2) AS avg_carrier_delay,\n",
    "  ROUND(AVG(WeatherDelay), 2) AS avg_weather_delay,\n",
    "  ROUND(AVG(NASDelay), 2) AS avg_nas_delay,\n",
    "  ROUND(AVG(SecurityDelay), 2) AS avg_security_delay,\n",
    "  ROUND(AVG(LateAircraftDelay), 2) AS avg_late_aircraft_delay\n",
    "FROM flight_2008\n",
    "WHERE Cancelled = 0\n",
    "  AND FlightNum = 1234\n",
    "  AND (CarrierDelay IS NOT NULL OR WeatherDelay IS NOT NULL OR NASDelay IS NOT NULL OR SecurityDelay IS NOT NULL OR LateAircraftDelay IS NOT NULL)\n",
    "\"\"\"\n",
    "df_delay_reasons = hive_query_to_df(query_delay_reason_by_flight)\n",
    "df_delay_reasons.columns = [\n",
    "    'avg_carrier_delay', 'avg_weather_delay', 'avg_nas_delay',\n",
    "    'avg_security_delay', 'avg_late_aircraft_delay'\n",
    "]"
   ]
  },
  {
   "cell_type": "code",
   "execution_count": 63,
   "id": "d5cea5c2",
   "metadata": {},
   "outputs": [
    {
     "name": "stdout",
     "output_type": "stream",
     "text": [
      "📊 Breakdown of Delay Reasons for FlightNum 1234:\n"
     ]
    },
    {
     "data": {
      "text/html": [
       "<div>\n",
       "<style scoped>\n",
       "    .dataframe tbody tr th:only-of-type {\n",
       "        vertical-align: middle;\n",
       "    }\n",
       "\n",
       "    .dataframe tbody tr th {\n",
       "        vertical-align: top;\n",
       "    }\n",
       "\n",
       "    .dataframe thead th {\n",
       "        text-align: right;\n",
       "    }\n",
       "</style>\n",
       "<table border=\"1\" class=\"dataframe\">\n",
       "  <thead>\n",
       "    <tr style=\"text-align: right;\">\n",
       "      <th></th>\n",
       "      <th>avg_carrier_delay</th>\n",
       "      <th>avg_weather_delay</th>\n",
       "      <th>avg_nas_delay</th>\n",
       "      <th>avg_security_delay</th>\n",
       "      <th>avg_late_aircraft_delay</th>\n",
       "    </tr>\n",
       "  </thead>\n",
       "  <tbody>\n",
       "    <tr>\n",
       "      <th>0</th>\n",
       "      <td>18.62</td>\n",
       "      <td>3.12</td>\n",
       "      <td>20.78</td>\n",
       "      <td>0.0</td>\n",
       "      <td>29.07</td>\n",
       "    </tr>\n",
       "  </tbody>\n",
       "</table>\n",
       "</div>"
      ],
      "text/plain": [
       "   avg_carrier_delay  avg_weather_delay  avg_nas_delay  avg_security_delay  \\\n",
       "0              18.62               3.12          20.78                 0.0   \n",
       "\n",
       "   avg_late_aircraft_delay  \n",
       "0                    29.07  "
      ]
     },
     "execution_count": 63,
     "metadata": {},
     "output_type": "execute_result"
    }
   ],
   "source": [
    "print(\"📊 Breakdown of Delay Reasons for FlightNum 1234:\")\n",
    "df_delay_reasons"
   ]
  },
  {
   "cell_type": "markdown",
   "id": "69807d6c",
   "metadata": {},
   "source": [
    "### Analysis of Delay Causes for Poor Performing Flight Numbers\n",
    "\n",
    "To understand the underlying causes of delays in the top underperforming flight numbers, we examined the average delay contributions by category:\n",
    "\n",
    "| Delay Category         | Average Delay (minutes) |\n",
    "|------------------------|--------------------------|\n",
    "| Carrier Delay          | 18.62                    |\n",
    "| Weather Delay          | 3.12                     |\n",
    "| NAS (Airspace) Delay   | 20.78                    |\n",
    "| Security Delay         | 0.00                     |\n",
    "| Late Aircraft Delay    | 29.07                    |\n",
    "\n",
    "**Key Findings:**\n",
    "\n",
    "- **Late Aircraft Delay (29.07 mins)** is the most significant contributor. This suggests that these flights are frequently delayed due to the **late arrival of inbound aircraft**, causing a cascading delay effect.\n",
    "- **NAS Delay (20.78 mins)** is the second-highest factor. This relates to **air traffic control issues, airport congestion, or airspace constraints**, which are often systemic and affect broader airport operations.\n",
    "- **Carrier Delay (18.62 mins)** also plays a major role, typically associated with **airline-level operational inefficiencies**, such as maintenance or crew issues.\n",
    "- **Weather Delay (3.12 mins)** has a relatively minor effect, indicating that **weather conditions were not the main driver** for poor performance in these flight numbers.\n",
    "- **Security Delay (0.00 mins)** is negligible, confirming that **security-related issues were not relevant** to these delays.\n",
    "\n",
    "**Implications:**\n",
    "\n",
    "The combined influence of **Late Aircraft**, **NAS**, and **Carrier** delays suggests these flight numbers are affected by a **chain reaction of upstream operational issues**, including:\n",
    "- Tight scheduling with minimal turnaround time\n",
    "- Frequent operation through congested airspaces or airports\n",
    "- Dependency on aircraft arriving from previously delayed routes\n",
    "\n",
    "These findings emphasize the need for **better scheduling buffers**, **air traffic coordination**, and **fleet management strategies** to address systemic delays in these high-risk flight numbers."
   ]
  },
  {
   "cell_type": "markdown",
   "id": "dc453a2d",
   "metadata": {},
   "source": [
    "### CancellationCode"
   ]
  },
  {
   "cell_type": "code",
   "execution_count": 65,
   "id": "01ede8c9",
   "metadata": {},
   "outputs": [],
   "source": [
    "query_cancel_reason_by_flight = \"\"\"\n",
    "SELECT CancellationCode,\n",
    "       COUNT(*) AS total_cancelled\n",
    "FROM flight_2008\n",
    "WHERE Cancelled = 1 AND FlightNum = 1234\n",
    "GROUP BY CancellationCode\n",
    "\"\"\"\n",
    "df_cancel_reasons = hive_query_to_df(query_cancel_reason_by_flight)\n",
    "df_cancel_reasons.columns = ['cancel_code', 'total_cancelled']"
   ]
  },
  {
   "cell_type": "code",
   "execution_count": 66,
   "id": "ceb68879",
   "metadata": {},
   "outputs": [
    {
     "name": "stdout",
     "output_type": "stream",
     "text": [
      "📋 Cancellation Reasons for FlightNum 1234:\n"
     ]
    },
    {
     "data": {
      "text/html": [
       "<div>\n",
       "<style scoped>\n",
       "    .dataframe tbody tr th:only-of-type {\n",
       "        vertical-align: middle;\n",
       "    }\n",
       "\n",
       "    .dataframe tbody tr th {\n",
       "        vertical-align: top;\n",
       "    }\n",
       "\n",
       "    .dataframe thead th {\n",
       "        text-align: right;\n",
       "    }\n",
       "</style>\n",
       "<table border=\"1\" class=\"dataframe\">\n",
       "  <thead>\n",
       "    <tr style=\"text-align: right;\">\n",
       "      <th></th>\n",
       "      <th>cancel_code</th>\n",
       "      <th>total_cancelled</th>\n",
       "    </tr>\n",
       "  </thead>\n",
       "  <tbody>\n",
       "    <tr>\n",
       "      <th>0</th>\n",
       "      <td>A</td>\n",
       "      <td>8</td>\n",
       "    </tr>\n",
       "    <tr>\n",
       "      <th>1</th>\n",
       "      <td>B</td>\n",
       "      <td>16</td>\n",
       "    </tr>\n",
       "    <tr>\n",
       "      <th>2</th>\n",
       "      <td>C</td>\n",
       "      <td>4</td>\n",
       "    </tr>\n",
       "  </tbody>\n",
       "</table>\n",
       "</div>"
      ],
      "text/plain": [
       "  cancel_code  total_cancelled\n",
       "0           A                8\n",
       "1           B               16\n",
       "2           C                4"
      ]
     },
     "execution_count": 66,
     "metadata": {},
     "output_type": "execute_result"
    }
   ],
   "source": [
    "print(\"📋 Cancellation Reasons for FlightNum 1234:\")\n",
    "df_cancel_reasons"
   ]
  },
  {
   "cell_type": "markdown",
   "id": "98e79e2d",
   "metadata": {},
   "source": [
    "### Analysis of Cancellation Reasons by Cancellation Code\n",
    "\n",
    "The dataset includes cancellation codes that classify the cause of flight cancellations into predefined categories:\n",
    "\n",
    "| Cancellation Code | Reason                  | Total Cancellations |\n",
    "|-------------------|--------------------------|----------------------|\n",
    "| A                 | Carrier (e.g., airline issues)     | 8                    |\n",
    "| B                 | Weather                  | 16                   |\n",
    "| C                 | National Airspace System (NAS)     | 4                    |\n",
    "\n",
    "**Key Observations:**\n",
    "\n",
    "- **Weather-related cancellations (Code B)** are the **most frequent**, accounting for **16 cancellations**. This suggests that **adverse weather conditions**, such as storms or low visibility, remain a prominent challenge, especially in regions or seasons prone to such conditions.\n",
    "  \n",
    "- **Carrier-related cancellations (Code A)**, totaling **8 flights**, indicate issues such as **maintenance problems, crew unavailability, or operational inefficiencies**. These are internal airline challenges that can sometimes be mitigated with better resource planning.\n",
    "  \n",
    "- **NAS-related cancellations (Code C)**, although lower in frequency (**4 cases**), highlight issues like **air traffic control congestion or system-related disruptions**, which are beyond airline control but can impact scheduling, especially in high-traffic corridors.\n",
    "\n",
    "**Implication**\n",
    "\n",
    "The primary driver of cancellations in this subset is **weather-related disruptions**, followed by **carrier-level problems**. While weather remains unpredictable, airline-related issues might be mitigated through **proactive maintenance**, **staff scheduling**, and **fleet readiness checks**. NAS-related issues suggest a need for **better coordination with air traffic control** to minimize cancellations during high-demand periods."
   ]
  },
  {
   "cell_type": "markdown",
   "id": "8c00f748",
   "metadata": {},
   "source": [
    "## **5: Conclusion**\n",
    "\n",
    "This study provides an in-depth analysis of flight performance, delays, and cancellations using the 2008 flight dataset. Several key insights emerged:\n",
    "\n",
    "- **Time of Day Performance:** Flights scheduled during the **night** exhibited the lowest average arrival delays, indicating that **less congested time windows** result in better punctuality. Conversely, **evening flights** tended to accumulate higher delays due to cascading effects from earlier operations.\n",
    "\n",
    "- **Day of Week Trends:** **Weekend flights** (especially Saturdays and Sundays) consistently showed **lower average delays**. This pattern is likely due to **reduced air traffic and fewer business-related flights** compared to weekdays.\n",
    "\n",
    "- **Seasonality Impact:** Analysis by **month and season** revealed that **spring and April** recorded the **lowest delays**, while **winter months**, especially **February**, experienced the **highest delay rates**. These findings align with typical weather disruptions and holiday congestion during the winter season.\n",
    "\n",
    "- **Primary Delay Factors:** The top causes of delays were:\n",
    "  - **Late aircraft arrival** (37.5% of total delay minutes)\n",
    "  - **National Airspace System (NAS) issues**\n",
    "  - **Carrier-related delays**\n",
    "  These factors suggest a combination of **systemic scheduling inefficiencies** and **operational bottlenecks** within the aviation infrastructure.\n",
    "\n",
    "- **Cancellation Insights:** Most cancellations were due to:\n",
    "  - **Carrier issues (40.46%)**\n",
    "  - **Weather disruptions (39.95%)**\n",
    "  - **NAS-related constraints (19.58%)**\n",
    "  Weather and carrier operations remain the dominant sources of cancellation, especially during peak months such as **February**.\n",
    "\n",
    "- **Performance by Airlines and Routes:** Certain **airlines** (e.g., **AA, MQ, OO**) and specific **routes** (e.g., **EGE–MIA, MKE–MQT**) exhibited **high delay averages**, often exceeding **60 minutes**. Flight numbers such as **7372 and 6375** were also consistently late, driven by compounding delay factors like **late aircraft arrivals** and **NAS issues**.\n",
    "\n",
    "- **Delay Profiles of Poor Performing Flights:** Detailed breakdowns revealed that **late aircraft delay** and **NAS delay** were the dominant reasons for poor punctuality in most high-delay flights.\n",
    "\n",
    "- **Cancellation Code Analysis:** Weather (Code B) and carrier issues (Code A) were the leading codes associated with cancelled flights. This reinforces the need for **robust weather mitigation strategies** and **improved operational readiness** by carriers.\n",
    "\n",
    "**Overall**, the findings highlight the multifactorial nature of flight delays and cancellations. **Operational improvements**, **better scheduling**, and **enhanced inter-agency coordination** (between airlines, airports, and air traffic control) are crucial to improving overall flight reliability."
   ]
  }
 ],
 "metadata": {
  "kernelspec": {
   "display_name": "MDSDM",
   "language": "python",
   "name": "python3"
  },
  "language_info": {
   "codemirror_mode": {
    "name": "ipython",
    "version": 3
   },
   "file_extension": ".py",
   "mimetype": "text/x-python",
   "name": "python",
   "nbconvert_exporter": "python",
   "pygments_lexer": "ipython3",
   "version": "3.8.20"
  }
 },
 "nbformat": 4,
 "nbformat_minor": 5
}
